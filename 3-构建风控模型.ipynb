{
 "cells": [
  {
   "cell_type": "markdown",
   "metadata": {},
   "source": [
    "# 3 - 风控模型构建\n",
    "----\n",
    "\n",
    "### 目录：\n",
    "\n",
    "[Logistic 回归](#Logistic-回归)\n",
    "\n",
    "[随机森林](#随机森林)\n",
    "\n",
    "[SVM](#SVM)\n",
    "\n",
    "[MLP](#MLP)\n",
    "\n",
    "[GBDT](#GBDT)\n",
    "\n",
    "[KNN](#KNN)\n",
    "\n",
    "[模型综合评估](#模型综合评估)"
   ]
  },
  {
   "cell_type": "markdown",
   "metadata": {},
   "source": [
    "## 初始化\n",
    "----"
   ]
  },
  {
   "cell_type": "code",
   "execution_count": 1,
   "metadata": {},
   "outputs": [],
   "source": [
    "# import 必要模块\n",
    "import json\n",
    "\n",
    "import joblib\n",
    "import matplotlib.pyplot as plt\n",
    "import numpy as np\n",
    "import pandas as pd\n",
    "import seaborn as sns\n",
    "import xgboost as xgb\n",
    "import hyperopt\n",
    "import re\n",
    "\n",
    "from lightgbm import LGBMClassifier\n",
    "from sklearn.ensemble import RandomForestClassifier, GradientBoostingClassifier\n",
    "from sklearn.exceptions import ConvergenceWarning\n",
    "from sklearn.linear_model import LogisticRegression\n",
    "from sklearn.metrics import roc_auc_score, roc_curve, recall_score, f1_score, accuracy_score\n",
    "from sklearn.model_selection import train_test_split, GridSearchCV\n",
    "from sklearn.neighbors import KNeighborsClassifier\n",
    "from sklearn.neural_network import MLPClassifier\n",
    "from sklearn.svm import SVC, LinearSVC\n",
    "from sklearn.utils.testing import ignore_warnings\n",
    "\n",
    "import cookdata_util as cutil"
   ]
  },
  {
   "cell_type": "code",
   "execution_count": 2,
   "metadata": {},
   "outputs": [],
   "source": [
    "# 定义常量\n",
    "PREFIX = './数据/'\n",
    "DATA_EXPORT_TO = PREFIX + '预处理结果/'\n",
    "RANDOM_STATE = 233"
   ]
  },
  {
   "cell_type": "code",
   "execution_count": 3,
   "metadata": {},
   "outputs": [],
   "source": [
    "# 初始化环境\n",
    "cutil.init_pd_plt()\n",
    "cutil.set_constant({\n",
    "    'PREFIX': PREFIX,\n",
    "    'DATA_LOAD_FROM': DATA_EXPORT_TO,\n",
    "    'RANDOM_STATE': RANDOM_STATE\n",
    "})"
   ]
  },
  {
   "cell_type": "code",
   "execution_count": 4,
   "metadata": {},
   "outputs": [],
   "source": [
    "# 4、定义全局变量容器\n",
    "glbl = cutil.MyGlobals()"
   ]
  },
  {
   "cell_type": "code",
   "execution_count": 5,
   "metadata": {},
   "outputs": [],
   "source": [
    "# 定义存储已建好模型的容器\n",
    "trained_models = cutil.MyGlobals()\n",
    "evaluate_models = cutil.MyGlobals()"
   ]
  },
  {
   "cell_type": "code",
   "execution_count": 6,
   "metadata": {
    "scrolled": true
   },
   "outputs": [
    {
     "name": "stdout",
     "output_type": "stream",
     "text": [
      "正在加载： cut(data)\n",
      "正在加载： minmax(data)\n",
      "正在加载： minmax(pca(std(data)))\n",
      "正在加载： pca(std(data))\n",
      "正在加载： qcut(data)\n",
      "正在加载： raw_data\n",
      "正在加载： std(data)\n"
     ]
    }
   ],
   "source": [
    "# 5、加载测试集\n",
    "# test_packs：X_train, X_test, y_train, y_test\n",
    "# test_validate_pack: X_train, X_validate, X_test, y_train, y_validate, y_test\n",
    "test_packs, test_validate_packs, test_data_cols = dict(), dict(), dict()\n",
    "cutil.load_data_into(test_packs, test_validate_packs, test_data_cols=test_data_cols)"
   ]
  },
  {
   "cell_type": "code",
   "execution_count": 7,
   "metadata": {},
   "outputs": [
    {
     "data": {
      "text/plain": [
       "{'cut(data)': ['Han',\n",
       "  'inCourt',\n",
       "  'isBlackList',\n",
       "  'isCrime',\n",
       "  'isDue',\n",
       "  'maritalStatus_0',\n",
       "  'maritalStatus_1',\n",
       "  'maritalStatus_2',\n",
       "  'education_0',\n",
       "  'education_1',\n",
       "  'education_2',\n",
       "  'education_3',\n",
       "  'education_4',\n",
       "  'idVerify_0',\n",
       "  'idVerify_1',\n",
       "  'idVerify_2',\n",
       "  'threeVerify_0',\n",
       "  'threeVerify_1',\n",
       "  'threeVerify_2',\n",
       "  'netLength_0',\n",
       "  'netLength_1',\n",
       "  'netLength_2',\n",
       "  'netLength_3',\n",
       "  'netLength_4',\n",
       "  'sex_0',\n",
       "  'sex_1',\n",
       "  'sex_2',\n",
       "  'CityId_1',\n",
       "  'CityId_2',\n",
       "  'CityId_3',\n",
       "  'age_0',\n",
       "  'age_1',\n",
       "  'age_2',\n",
       "  'age_3',\n",
       "  'age_4',\n",
       "  'card_age_0',\n",
       "  'card_age_1',\n",
       "  'card_age_2',\n",
       "  'card_age_3',\n",
       "  'card_age_4',\n",
       "  'cashAmt_mean_0',\n",
       "  'cashAmt_mean_1',\n",
       "  'cashAmt_mean_2',\n",
       "  'cashAmt_mean_3',\n",
       "  'cashAmt_mean_4',\n",
       "  'cashAmt_non_null_months_0',\n",
       "  'cashAmt_non_null_months_1',\n",
       "  'cashAmt_non_null_months_2',\n",
       "  'cashAmt_non_null_months_3',\n",
       "  'cashAmt_non_null_months_4',\n",
       "  'cashCnt_mean_0',\n",
       "  'cashCnt_mean_1',\n",
       "  'cashCnt_mean_2',\n",
       "  'cashCnt_mean_3',\n",
       "  'cashCnt_mean_4',\n",
       "  'cashCnt_non_null_months_0',\n",
       "  'cashCnt_non_null_months_1',\n",
       "  'cashCnt_non_null_months_2',\n",
       "  'cashCnt_non_null_months_3',\n",
       "  'cashCnt_non_null_months_4',\n",
       "  'cashTotalAmt_0',\n",
       "  'cashTotalAmt_1',\n",
       "  'cashTotalAmt_2',\n",
       "  'cashTotalAmt_3',\n",
       "  'cashTotalAmt_4',\n",
       "  'cashTotalCnt_0',\n",
       "  'cashTotalCnt_1',\n",
       "  'cashTotalCnt_2',\n",
       "  'cashTotalCnt_3',\n",
       "  'cashTotalCnt_4',\n",
       "  'monthCardLargeAmt_0',\n",
       "  'monthCardLargeAmt_1',\n",
       "  'monthCardLargeAmt_2',\n",
       "  'monthCardLargeAmt_3',\n",
       "  'monthCardLargeAmt_4',\n",
       "  'noTransWeekPre_0',\n",
       "  'noTransWeekPre_1',\n",
       "  'noTransWeekPre_2',\n",
       "  'noTransWeekPre_4',\n",
       "  'onlineTransAmt_0',\n",
       "  'onlineTransAmt_1',\n",
       "  'onlineTransAmt_2',\n",
       "  'onlineTransAmt_3',\n",
       "  'onlineTransAmt_4',\n",
       "  'onlineTransCnt_0',\n",
       "  'onlineTransCnt_1',\n",
       "  'onlineTransCnt_2',\n",
       "  'onlineTransCnt_3',\n",
       "  'onlineTransCnt_4',\n",
       "  'publicPayAmt_0',\n",
       "  'publicPayAmt_1',\n",
       "  'publicPayAmt_2',\n",
       "  'publicPayAmt_3',\n",
       "  'publicPayAmt_4',\n",
       "  'publicPayCnt_0',\n",
       "  'publicPayCnt_1',\n",
       "  'publicPayCnt_2',\n",
       "  'publicPayCnt_3',\n",
       "  'publicPayCnt_4',\n",
       "  'transAmt_mean_0',\n",
       "  'transAmt_mean_1',\n",
       "  'transAmt_mean_2',\n",
       "  'transAmt_mean_3',\n",
       "  'transAmt_mean_4',\n",
       "  'transAmt_non_null_months_0',\n",
       "  'transAmt_non_null_months_1',\n",
       "  'transAmt_non_null_months_2',\n",
       "  'transAmt_non_null_months_3',\n",
       "  'transAmt_non_null_months_4',\n",
       "  'transCnt_mean_0',\n",
       "  'transCnt_mean_1',\n",
       "  'transCnt_mean_3',\n",
       "  'transCnt_mean_4',\n",
       "  'transCnt_non_null_months_0',\n",
       "  'transCnt_non_null_months_1',\n",
       "  'transCnt_non_null_months_2',\n",
       "  'transCnt_non_null_months_3',\n",
       "  'transCnt_non_null_months_4',\n",
       "  'transTotalAmt_0',\n",
       "  'transTotalAmt_1',\n",
       "  'transTotalAmt_2',\n",
       "  'transTotalAmt_3',\n",
       "  'transTotalAmt_4',\n",
       "  'transTotalCnt_0',\n",
       "  'transTotalCnt_1',\n",
       "  'transTotalCnt_3',\n",
       "  'transTotalCnt_4',\n",
       "  'trans_total_0',\n",
       "  'trans_total_1',\n",
       "  'trans_total_2',\n",
       "  'trans_total_3',\n",
       "  'trans_total_4',\n",
       "  'total_withdraw_0',\n",
       "  'total_withdraw_1',\n",
       "  'total_withdraw_2',\n",
       "  'total_withdraw_3',\n",
       "  'total_withdraw_4',\n",
       "  'avg_per_withdraw_0',\n",
       "  'avg_per_withdraw_1',\n",
       "  'avg_per_withdraw_2',\n",
       "  'avg_per_withdraw_3',\n",
       "  'avg_per_withdraw_4',\n",
       "  'avg_per_online_spend_0',\n",
       "  'avg_per_online_spend_1',\n",
       "  'avg_per_online_spend_2',\n",
       "  'avg_per_online_spend_3',\n",
       "  'avg_per_online_spend_4',\n",
       "  'avg_per_public_spend_0',\n",
       "  'avg_per_public_spend_1',\n",
       "  'avg_per_public_spend_2',\n",
       "  'avg_per_public_spend_3',\n",
       "  'avg_per_public_spend_4'],\n",
       " 'minmax(data)': ['Han',\n",
       "  'age',\n",
       "  'card_age',\n",
       "  'cashAmt_mean',\n",
       "  'cashAmt_non_null_months',\n",
       "  'cashCnt_mean',\n",
       "  'cashCnt_non_null_months',\n",
       "  'cashTotalAmt',\n",
       "  'cashTotalCnt',\n",
       "  'inCourt',\n",
       "  'isBlackList',\n",
       "  'isCrime',\n",
       "  'isDue',\n",
       "  'monthCardLargeAmt',\n",
       "  'noTransWeekPre',\n",
       "  'onlineTransAmt',\n",
       "  'onlineTransCnt',\n",
       "  'publicPayAmt',\n",
       "  'publicPayCnt',\n",
       "  'transAmt_mean',\n",
       "  'transAmt_non_null_months',\n",
       "  'transCnt_mean',\n",
       "  'transCnt_non_null_months',\n",
       "  'transTotalAmt',\n",
       "  'transTotalCnt',\n",
       "  'maritalStatus_0',\n",
       "  'maritalStatus_1',\n",
       "  'maritalStatus_2',\n",
       "  'education_0',\n",
       "  'education_1',\n",
       "  'education_2',\n",
       "  'education_3',\n",
       "  'education_4',\n",
       "  'idVerify_0',\n",
       "  'idVerify_1',\n",
       "  'idVerify_2',\n",
       "  'threeVerify_0',\n",
       "  'threeVerify_1',\n",
       "  'threeVerify_2',\n",
       "  'netLength_0',\n",
       "  'netLength_1',\n",
       "  'netLength_2',\n",
       "  'netLength_3',\n",
       "  'netLength_4',\n",
       "  'sex_0',\n",
       "  'sex_1',\n",
       "  'sex_2',\n",
       "  'CityId_1',\n",
       "  'CityId_2',\n",
       "  'CityId_3',\n",
       "  'trans_total',\n",
       "  'total_withdraw',\n",
       "  'avg_per_withdraw',\n",
       "  'avg_per_online_spend',\n",
       "  'avg_per_public_spend'],\n",
       " 'minmax(pca(std(data)))': ['0',\n",
       "  '1',\n",
       "  '2',\n",
       "  '3',\n",
       "  '4',\n",
       "  '5',\n",
       "  '6',\n",
       "  '7',\n",
       "  '8',\n",
       "  '9',\n",
       "  '10',\n",
       "  '11',\n",
       "  '12',\n",
       "  '13',\n",
       "  '14',\n",
       "  '15',\n",
       "  '16',\n",
       "  '17',\n",
       "  '18',\n",
       "  '19',\n",
       "  '20',\n",
       "  '21',\n",
       "  '22',\n",
       "  '23',\n",
       "  '24',\n",
       "  '25',\n",
       "  '26',\n",
       "  '27',\n",
       "  '28',\n",
       "  '29',\n",
       "  '30',\n",
       "  '31',\n",
       "  '32',\n",
       "  '33',\n",
       "  '34',\n",
       "  '35',\n",
       "  '36',\n",
       "  '37',\n",
       "  '38',\n",
       "  '39',\n",
       "  '40',\n",
       "  '41',\n",
       "  '42',\n",
       "  '43',\n",
       "  '44',\n",
       "  '45',\n",
       "  '46',\n",
       "  '47',\n",
       "  '48',\n",
       "  '49',\n",
       "  '50',\n",
       "  '51'],\n",
       " 'pca(std(data))': ['0',\n",
       "  '1',\n",
       "  '2',\n",
       "  '3',\n",
       "  '4',\n",
       "  '5',\n",
       "  '6',\n",
       "  '7',\n",
       "  '8',\n",
       "  '9',\n",
       "  '10',\n",
       "  '11',\n",
       "  '12',\n",
       "  '13',\n",
       "  '14',\n",
       "  '15',\n",
       "  '16',\n",
       "  '17',\n",
       "  '18',\n",
       "  '19',\n",
       "  '20',\n",
       "  '21',\n",
       "  '22',\n",
       "  '23',\n",
       "  '24',\n",
       "  '25',\n",
       "  '26',\n",
       "  '27',\n",
       "  '28',\n",
       "  '29',\n",
       "  '30',\n",
       "  '31',\n",
       "  '32',\n",
       "  '33',\n",
       "  '34',\n",
       "  '35',\n",
       "  '36',\n",
       "  '37',\n",
       "  '38',\n",
       "  '39',\n",
       "  '40',\n",
       "  '41',\n",
       "  '42',\n",
       "  '43',\n",
       "  '44',\n",
       "  '45',\n",
       "  '46',\n",
       "  '47',\n",
       "  '48',\n",
       "  '49',\n",
       "  '50',\n",
       "  '51'],\n",
       " 'qcut(data)': ['Han',\n",
       "  'inCourt',\n",
       "  'isBlackList',\n",
       "  'isCrime',\n",
       "  'isDue',\n",
       "  'maritalStatus_0',\n",
       "  'maritalStatus_1',\n",
       "  'maritalStatus_2',\n",
       "  'education_0',\n",
       "  'education_1',\n",
       "  'education_2',\n",
       "  'education_3',\n",
       "  'education_4',\n",
       "  'idVerify_0',\n",
       "  'idVerify_1',\n",
       "  'idVerify_2',\n",
       "  'threeVerify_0',\n",
       "  'threeVerify_1',\n",
       "  'threeVerify_2',\n",
       "  'netLength_0',\n",
       "  'netLength_1',\n",
       "  'netLength_2',\n",
       "  'netLength_3',\n",
       "  'netLength_4',\n",
       "  'sex_0',\n",
       "  'sex_1',\n",
       "  'sex_2',\n",
       "  'CityId_1',\n",
       "  'CityId_2',\n",
       "  'CityId_3',\n",
       "  'age_0',\n",
       "  'age_1',\n",
       "  'age_2',\n",
       "  'age_3',\n",
       "  'age_4',\n",
       "  'card_age_0',\n",
       "  'card_age_1',\n",
       "  'card_age_2',\n",
       "  'card_age_3',\n",
       "  'card_age_4',\n",
       "  'cashAmt_mean_0',\n",
       "  'cashAmt_mean_1',\n",
       "  'cashAmt_mean_2',\n",
       "  'cashAmt_mean_3',\n",
       "  'cashAmt_non_null_months_0',\n",
       "  'cashAmt_non_null_months_1',\n",
       "  'cashAmt_non_null_months_2',\n",
       "  'cashAmt_non_null_months_3',\n",
       "  'cashCnt_mean_0',\n",
       "  'cashCnt_mean_1',\n",
       "  'cashCnt_mean_2',\n",
       "  'cashCnt_mean_3',\n",
       "  'cashCnt_non_null_months_0',\n",
       "  'cashCnt_non_null_months_1',\n",
       "  'cashCnt_non_null_months_2',\n",
       "  'cashCnt_non_null_months_3',\n",
       "  'cashTotalAmt_0',\n",
       "  'cashTotalAmt_1',\n",
       "  'cashTotalAmt_2',\n",
       "  'cashTotalCnt_0',\n",
       "  'cashTotalCnt_1',\n",
       "  'cashTotalCnt_2',\n",
       "  'cashTotalCnt_3',\n",
       "  'monthCardLargeAmt_0',\n",
       "  'monthCardLargeAmt_1',\n",
       "  'monthCardLargeAmt_2',\n",
       "  'monthCardLargeAmt_3',\n",
       "  'noTransWeekPre_0',\n",
       "  'noTransWeekPre_1',\n",
       "  'noTransWeekPre_2',\n",
       "  'noTransWeekPre_3',\n",
       "  'noTransWeekPre_4',\n",
       "  'onlineTransAmt_0',\n",
       "  'onlineTransAmt_1',\n",
       "  'onlineTransAmt_2',\n",
       "  'onlineTransAmt_3',\n",
       "  'onlineTransCnt_0',\n",
       "  'onlineTransCnt_1',\n",
       "  'onlineTransCnt_2',\n",
       "  'onlineTransCnt_3',\n",
       "  'publicPayAmt_0',\n",
       "  'publicPayAmt_1',\n",
       "  'publicPayAmt_2',\n",
       "  'publicPayAmt_3',\n",
       "  'publicPayCnt_0',\n",
       "  'publicPayCnt_1',\n",
       "  'publicPayCnt_2',\n",
       "  'publicPayCnt_3',\n",
       "  'transAmt_mean_0',\n",
       "  'transAmt_mean_1',\n",
       "  'transAmt_mean_2',\n",
       "  'transAmt_mean_3',\n",
       "  'transAmt_mean_4',\n",
       "  'transAmt_non_null_months_0',\n",
       "  'transAmt_non_null_months_1',\n",
       "  'transAmt_non_null_months_2',\n",
       "  'transAmt_non_null_months_3',\n",
       "  'transAmt_non_null_months_4',\n",
       "  'transCnt_mean_0',\n",
       "  'transCnt_mean_1',\n",
       "  'transCnt_mean_2',\n",
       "  'transCnt_mean_3',\n",
       "  'transCnt_mean_4',\n",
       "  'transCnt_non_null_months_0',\n",
       "  'transCnt_non_null_months_1',\n",
       "  'transCnt_non_null_months_2',\n",
       "  'transCnt_non_null_months_3',\n",
       "  'transCnt_non_null_months_4',\n",
       "  'transTotalAmt_0',\n",
       "  'transTotalAmt_1',\n",
       "  'transTotalAmt_2',\n",
       "  'transTotalAmt_3',\n",
       "  'transTotalCnt_0',\n",
       "  'transTotalCnt_1',\n",
       "  'transTotalCnt_2',\n",
       "  'transTotalCnt_3',\n",
       "  'transTotalCnt_4',\n",
       "  'trans_total_0',\n",
       "  'trans_total_1',\n",
       "  'trans_total_2',\n",
       "  'trans_total_3',\n",
       "  'total_withdraw_0',\n",
       "  'total_withdraw_1',\n",
       "  'total_withdraw_2',\n",
       "  'total_withdraw_3',\n",
       "  'avg_per_withdraw_0',\n",
       "  'avg_per_withdraw_1',\n",
       "  'avg_per_withdraw_2',\n",
       "  'avg_per_online_spend_0',\n",
       "  'avg_per_online_spend_1',\n",
       "  'avg_per_online_spend_2',\n",
       "  'avg_per_online_spend_3',\n",
       "  'avg_per_public_spend_0',\n",
       "  'avg_per_public_spend_1',\n",
       "  'avg_per_public_spend_2',\n",
       "  'avg_per_public_spend_3'],\n",
       " 'raw_data': ['Han',\n",
       "  'age',\n",
       "  'card_age',\n",
       "  'cashAmt_mean',\n",
       "  'cashAmt_non_null_months',\n",
       "  'cashCnt_mean',\n",
       "  'cashCnt_non_null_months',\n",
       "  'cashTotalAmt',\n",
       "  'cashTotalCnt',\n",
       "  'inCourt',\n",
       "  'isBlackList',\n",
       "  'isCrime',\n",
       "  'isDue',\n",
       "  'monthCardLargeAmt',\n",
       "  'noTransWeekPre',\n",
       "  'onlineTransAmt',\n",
       "  'onlineTransCnt',\n",
       "  'publicPayAmt',\n",
       "  'publicPayCnt',\n",
       "  'transAmt_mean',\n",
       "  'transAmt_non_null_months',\n",
       "  'transCnt_mean',\n",
       "  'transCnt_non_null_months',\n",
       "  'transTotalAmt',\n",
       "  'transTotalCnt',\n",
       "  'maritalStatus_0',\n",
       "  'maritalStatus_1',\n",
       "  'maritalStatus_2',\n",
       "  'education_0',\n",
       "  'education_1',\n",
       "  'education_2',\n",
       "  'education_3',\n",
       "  'education_4',\n",
       "  'idVerify_0',\n",
       "  'idVerify_1',\n",
       "  'idVerify_2',\n",
       "  'threeVerify_0',\n",
       "  'threeVerify_1',\n",
       "  'threeVerify_2',\n",
       "  'netLength_0',\n",
       "  'netLength_1',\n",
       "  'netLength_2',\n",
       "  'netLength_3',\n",
       "  'netLength_4',\n",
       "  'sex_0',\n",
       "  'sex_1',\n",
       "  'sex_2',\n",
       "  'CityId_1',\n",
       "  'CityId_2',\n",
       "  'CityId_3',\n",
       "  'trans_total',\n",
       "  'total_withdraw',\n",
       "  'avg_per_withdraw',\n",
       "  'avg_per_online_spend',\n",
       "  'avg_per_public_spend'],\n",
       " 'std(data)': ['Han',\n",
       "  'age',\n",
       "  'card_age',\n",
       "  'cashAmt_mean',\n",
       "  'cashAmt_non_null_months',\n",
       "  'cashCnt_mean',\n",
       "  'cashCnt_non_null_months',\n",
       "  'cashTotalAmt',\n",
       "  'cashTotalCnt',\n",
       "  'inCourt',\n",
       "  'isBlackList',\n",
       "  'isCrime',\n",
       "  'isDue',\n",
       "  'monthCardLargeAmt',\n",
       "  'noTransWeekPre',\n",
       "  'onlineTransAmt',\n",
       "  'onlineTransCnt',\n",
       "  'publicPayAmt',\n",
       "  'publicPayCnt',\n",
       "  'transAmt_mean',\n",
       "  'transAmt_non_null_months',\n",
       "  'transCnt_mean',\n",
       "  'transCnt_non_null_months',\n",
       "  'transTotalAmt',\n",
       "  'transTotalCnt',\n",
       "  'maritalStatus_0',\n",
       "  'maritalStatus_1',\n",
       "  'maritalStatus_2',\n",
       "  'education_0',\n",
       "  'education_1',\n",
       "  'education_2',\n",
       "  'education_3',\n",
       "  'education_4',\n",
       "  'idVerify_0',\n",
       "  'idVerify_1',\n",
       "  'idVerify_2',\n",
       "  'threeVerify_0',\n",
       "  'threeVerify_1',\n",
       "  'threeVerify_2',\n",
       "  'netLength_0',\n",
       "  'netLength_1',\n",
       "  'netLength_2',\n",
       "  'netLength_3',\n",
       "  'netLength_4',\n",
       "  'sex_0',\n",
       "  'sex_1',\n",
       "  'sex_2',\n",
       "  'CityId_1',\n",
       "  'CityId_2',\n",
       "  'CityId_3',\n",
       "  'trans_total',\n",
       "  'total_withdraw',\n",
       "  'avg_per_withdraw',\n",
       "  'avg_per_online_spend',\n",
       "  'avg_per_public_spend']}"
      ]
     },
     "execution_count": 7,
     "metadata": {},
     "output_type": "execute_result"
    }
   ],
   "source": [
    "# 工具函数\n",
    "def anonymous_func():\n",
    "    sns.set(style=\"darkgrid\")\n",
    "    \n",
    "    return test_data_cols\n",
    "\n",
    "anonymous_func()"
   ]
  },
  {
   "cell_type": "markdown",
   "metadata": {},
   "source": [
    "## Logistic 回归\n",
    "----"
   ]
  },
  {
   "cell_type": "code",
   "execution_count": 8,
   "metadata": {},
   "outputs": [
    {
     "name": "stdout",
     "output_type": "stream",
     "text": [
      "cut(data): {'test auc': 0.842211, 'train auc': 0.846763, 'time': 0.750364}\n",
      "minmax(data): {'test auc': 0.843251, 'train auc': 0.840267, 'time': 0.855122}\n",
      "minmax(pca(std(data))): {'test auc': 0.846692, 'train auc': 0.836392, 'time': 0.611791}\n",
      "pca(std(data)): {'test auc': 0.892109, 'train auc': 0.885484, 'time': 1.952722}\n",
      "qcut(data): {'test auc': 0.922447, 'train auc': 0.920222, 'time': 0.42026}\n",
      "raw_data: {'test auc': 0.834311, 'train auc': 0.831458, 'time': 22.317919}\n",
      "std(data): {'test auc': 0.892147, 'train auc': 0.88551, 'time': 1.141662}\n"
     ]
    }
   ],
   "source": [
    "def anonymous_func():\n",
    "    glbl.logistic_default_res = cutil.default_param_on_model(\n",
    "        LogisticRegression(solver='liblinear', max_iter=1000),\n",
    "        test_packs)\n",
    "    cutil.dump_to_json(glbl.logistic_default_res, 'Logistic-DataPrefer')\n",
    "    \n",
    "anonymous_func()"
   ]
  },
  {
   "cell_type": "code",
   "execution_count": 12,
   "metadata": {},
   "outputs": [
    {
     "data": {
      "text/html": [
       "<div>\n",
       "<style scoped>\n",
       "    .dataframe tbody tr th:only-of-type {\n",
       "        vertical-align: middle;\n",
       "    }\n",
       "\n",
       "    .dataframe tbody tr th {\n",
       "        vertical-align: top;\n",
       "    }\n",
       "\n",
       "    .dataframe thead th {\n",
       "        text-align: right;\n",
       "    }\n",
       "</style>\n",
       "<table border=\"1\" class=\"dataframe\">\n",
       "  <thead>\n",
       "    <tr style=\"text-align: right;\">\n",
       "      <th></th>\n",
       "      <th>test auc</th>\n",
       "      <th>train auc</th>\n",
       "      <th>time</th>\n",
       "    </tr>\n",
       "  </thead>\n",
       "  <tbody>\n",
       "    <tr>\n",
       "      <th>cut(data)</th>\n",
       "      <td>0.842211</td>\n",
       "      <td>0.846763</td>\n",
       "      <td>0.750364</td>\n",
       "    </tr>\n",
       "    <tr>\n",
       "      <th>minmax(data)</th>\n",
       "      <td>0.843251</td>\n",
       "      <td>0.840267</td>\n",
       "      <td>0.855122</td>\n",
       "    </tr>\n",
       "    <tr>\n",
       "      <th>minmax(pca(std(data)))</th>\n",
       "      <td>0.846692</td>\n",
       "      <td>0.836392</td>\n",
       "      <td>0.611791</td>\n",
       "    </tr>\n",
       "    <tr>\n",
       "      <th>pca(std(data))</th>\n",
       "      <td>0.892109</td>\n",
       "      <td>0.885484</td>\n",
       "      <td>1.952722</td>\n",
       "    </tr>\n",
       "    <tr>\n",
       "      <th>qcut(data)</th>\n",
       "      <td>0.922447</td>\n",
       "      <td>0.920222</td>\n",
       "      <td>0.420260</td>\n",
       "    </tr>\n",
       "    <tr>\n",
       "      <th>raw_data</th>\n",
       "      <td>0.834311</td>\n",
       "      <td>0.831458</td>\n",
       "      <td>22.317919</td>\n",
       "    </tr>\n",
       "    <tr>\n",
       "      <th>std(data)</th>\n",
       "      <td>0.892147</td>\n",
       "      <td>0.885510</td>\n",
       "      <td>1.141662</td>\n",
       "    </tr>\n",
       "  </tbody>\n",
       "</table>\n",
       "</div>"
      ],
      "text/plain": [
       "                        test auc  train auc       time\n",
       "cut(data)               0.842211   0.846763   0.750364\n",
       "minmax(data)            0.843251   0.840267   0.855122\n",
       "minmax(pca(std(data)))  0.846692   0.836392   0.611791\n",
       "pca(std(data))          0.892109   0.885484   1.952722\n",
       "qcut(data)              0.922447   0.920222   0.420260\n",
       "raw_data                0.834311   0.831458  22.317919\n",
       "std(data)               0.892147   0.885510   1.141662"
      ]
     },
     "execution_count": 12,
     "metadata": {},
     "output_type": "execute_result"
    }
   ],
   "source": [
    "pd.DataFrame.from_dict(glbl.logistic_default_res, orient='index')"
   ]
  },
  {
   "cell_type": "code",
   "execution_count": 9,
   "metadata": {},
   "outputs": [
    {
     "name": "stdout",
     "output_type": "stream",
     "text": [
      "\n",
      "[Function executed for: 0.447109s]\n",
      "\n"
     ]
    },
    {
     "data": {
      "text/plain": [
       "{'test auc': 0.922416, 'train auc': 0.920164}"
      ]
     },
     "execution_count": 9,
     "metadata": {},
     "output_type": "execute_result"
    }
   ],
   "source": [
    "@cutil.time_it\n",
    "def anonymous_func():\n",
    "    X_train, X_test, y_train, y_test = test_packs['qcut(data)']\n",
    "    \n",
    "    logi = LogisticRegression(\n",
    "        solver='liblinear', max_iter=1000,\n",
    "        penalty='l2', C=0.6)\n",
    "    logi.fit(X_train, y_train)\n",
    "    return cutil.is_model_fit(logi, test_packs['qcut(data)'])\n",
    "\n",
    "anonymous_func()"
   ]
  },
  {
   "cell_type": "code",
   "execution_count": 11,
   "metadata": {},
   "outputs": [
    {
     "name": "stdout",
     "output_type": "stream",
     "text": [
      "\n",
      "[Function executed for: 0.129994s]\n",
      "\n"
     ]
    },
    {
     "data": {
      "text/plain": [
       "{'test auc': 0.588723, 'train auc': 0.603216}"
      ]
     },
     "execution_count": 11,
     "metadata": {},
     "output_type": "execute_result"
    }
   ],
   "source": [
    "@cutil.time_it\n",
    "def anonymous_func():\n",
    "    X_train, X_test, y_train, y_test = test_packs['qcut(data)']\n",
    "    \n",
    "    logi = LogisticRegression(\n",
    "        solver='liblinear', max_iter=1000, C=1e-11)\n",
    "    logi.fit(X_train, y_train)\n",
    "    return cutil.is_model_fit(logi, test_packs['qcut(data)'])\n",
    "\n",
    "anonymous_func()"
   ]
  },
  {
   "cell_type": "code",
   "execution_count": 10,
   "metadata": {},
   "outputs": [
    {
     "name": "stdout",
     "output_type": "stream",
     "text": [
      "Fitting 4 folds for each of 10 candidates, totalling 40 fits\n"
     ]
    },
    {
     "name": "stderr",
     "output_type": "stream",
     "text": [
      "[Parallel(n_jobs=4)]: Using backend LokyBackend with 4 concurrent workers.\n",
      "[Parallel(n_jobs=4)]: Done  33 tasks      | elapsed:   13.0s\n",
      "[Parallel(n_jobs=4)]: Done  40 out of  40 | elapsed:   14.4s finished\n"
     ]
    },
    {
     "name": "stdout",
     "output_type": "stream",
     "text": [
      "0.9170762795407308 {'C': 100, 'penalty': 'l2'}\n",
      "{'test auc': 0.922489, 'train auc': 0.920303}\n",
      "\n",
      "[Function executed for: 15.096934s]\n",
      "\n"
     ]
    }
   ],
   "source": [
    "@cutil.time_it\n",
    "def anonymous_func():\n",
    "    X_train, X_test, y_train, y_test = test_packs['qcut(data)']\n",
    "\n",
    "    tuned_parameters = {\n",
    "        'penalty': ['l1', 'l2'],\n",
    "        'C': [0.001, 0.01, 0.1, 10, 100]\n",
    "    }\n",
    "    gs_logi = GridSearchCV(\n",
    "        estimator=LogisticRegression(\n",
    "            solver='liblinear', max_iter=1000),\n",
    "        param_grid=tuned_parameters,\n",
    "        scoring='roc_auc', n_jobs=4, cv=4, verbose=2)\n",
    "    gs_logi.fit(X_train, y_train)\n",
    "    \n",
    "    glbl.gs_logi = gs_logi\n",
    "    print(gs_logi.best_score_, gs_logi.best_params_)\n",
    "    print(cutil.is_model_fit(gs_logi.best_estimator_, test_packs['qcut(data)']))\n",
    "\n",
    "anonymous_func()"
   ]
  },
  {
   "cell_type": "code",
   "execution_count": 10,
   "metadata": {},
   "outputs": [
    {
     "name": "stdout",
     "output_type": "stream",
     "text": [
      "Fitting 4 folds for each of 10 candidates, totalling 40 fits\n"
     ]
    },
    {
     "name": "stderr",
     "output_type": "stream",
     "text": [
      "[Parallel(n_jobs=4)]: Using backend LokyBackend with 4 concurrent workers.\n",
      "[Parallel(n_jobs=4)]: Done  33 tasks      | elapsed:   13.0s\n",
      "[Parallel(n_jobs=4)]: Done  40 out of  40 | elapsed:   14.4s finished\n"
     ]
    },
    {
     "name": "stdout",
     "output_type": "stream",
     "text": [
      "0.9170762795407308 {'C': 100, 'penalty': 'l2'}\n",
      "{'test auc': 0.922489, 'train auc': 0.920303}\n",
      "\n",
      "[Function executed for: 15.096934s]\n",
      "\n"
     ]
    }
   ],
   "source": [
    "@cutil.time_it\n",
    "def anonymous_func():\n",
    "    X_train, X_test, y_train, y_test = test_packs['qcut(data)']\n",
    "\n",
    "    tuned_parameters = {\n",
    "        'penalty': ['l1', 'l2'],\n",
    "        'C': [0.001, 0.01, 0.1, 10, 100]\n",
    "    }\n",
    "    gs_logi = GridSearchCV(\n",
    "        estimator=LogisticRegression(\n",
    "            solver='liblinear', max_iter=1000),\n",
    "        param_grid=tuned_parameters,\n",
    "        scoring='roc_auc', n_jobs=4, cv=4, verbose=2)\n",
    "    gs_logi.fit(X_train, y_train)\n",
    "    \n",
    "    glbl.gs_logi = gs_logi\n",
    "    print(gs_logi.best_score_, gs_logi.best_params_)\n",
    "    print(cutil.is_model_fit(gs_logi.best_estimator_, test_packs['qcut(data)']))\n",
    "\n",
    "anonymous_func()"
   ]
  },
  {
   "cell_type": "code",
   "execution_count": 38,
   "metadata": {},
   "outputs": [],
   "source": [
    "cutil.persistent(glbl.gs_logi.best_estimator_, 'LogisticRegression.model')"
   ]
  },
  {
   "cell_type": "markdown",
   "metadata": {},
   "source": [
    "## 随机森林\n",
    "----"
   ]
  },
  {
   "cell_type": "code",
   "execution_count": 12,
   "metadata": {},
   "outputs": [
    {
     "name": "stdout",
     "output_type": "stream",
     "text": [
      "cut(data): {'test auc': 0.870326, 'train auc': 0.998782, 'time': 0.498008}\n",
      "minmax(data): {'test auc': 0.930144, 'train auc': 0.999975, 'time': 0.72281}\n",
      "minmax(pca(std(data))): {'test auc': 0.914834, 'train auc': 0.999965, 'time': 3.458984}\n",
      "pca(std(data)): {'test auc': 0.909799, 'train auc': 0.999952, 'time': 3.360342}\n",
      "qcut(data): {'test auc': 0.928684, 'train auc': 0.999944, 'time': 0.434463}\n",
      "raw_data: {'test auc': 0.931477, 'train auc': 0.999986, 'time': 0.737411}\n",
      "std(data): {'test auc': 0.927213, 'train auc': 0.999986, 'time': 0.688506}\n"
     ]
    }
   ],
   "source": [
    "glbl.rf_default_res = cutil.default_param_on_model(\n",
    "    RandomForestClassifier(n_estimators=10, random_state=RANDOM_STATE), \n",
    "    test_packs)\n",
    "cutil.dump_to_json(glbl.rf_default_res, 'RandomForest-DataPrefer')"
   ]
  },
  {
   "cell_type": "code",
   "execution_count": 13,
   "metadata": {},
   "outputs": [
    {
     "data": {
      "text/html": [
       "<div>\n",
       "<style scoped>\n",
       "    .dataframe tbody tr th:only-of-type {\n",
       "        vertical-align: middle;\n",
       "    }\n",
       "\n",
       "    .dataframe tbody tr th {\n",
       "        vertical-align: top;\n",
       "    }\n",
       "\n",
       "    .dataframe thead th {\n",
       "        text-align: right;\n",
       "    }\n",
       "</style>\n",
       "<table border=\"1\" class=\"dataframe\">\n",
       "  <thead>\n",
       "    <tr style=\"text-align: right;\">\n",
       "      <th></th>\n",
       "      <th>test auc</th>\n",
       "      <th>train auc</th>\n",
       "      <th>time</th>\n",
       "    </tr>\n",
       "  </thead>\n",
       "  <tbody>\n",
       "    <tr>\n",
       "      <th>cut(data)</th>\n",
       "      <td>0.870326</td>\n",
       "      <td>0.998782</td>\n",
       "      <td>0.498008</td>\n",
       "    </tr>\n",
       "    <tr>\n",
       "      <th>minmax(data)</th>\n",
       "      <td>0.930144</td>\n",
       "      <td>0.999975</td>\n",
       "      <td>0.722810</td>\n",
       "    </tr>\n",
       "    <tr>\n",
       "      <th>minmax(pca(std(data)))</th>\n",
       "      <td>0.914834</td>\n",
       "      <td>0.999965</td>\n",
       "      <td>3.458984</td>\n",
       "    </tr>\n",
       "    <tr>\n",
       "      <th>pca(std(data))</th>\n",
       "      <td>0.909799</td>\n",
       "      <td>0.999952</td>\n",
       "      <td>3.360342</td>\n",
       "    </tr>\n",
       "    <tr>\n",
       "      <th>qcut(data)</th>\n",
       "      <td>0.928684</td>\n",
       "      <td>0.999944</td>\n",
       "      <td>0.434463</td>\n",
       "    </tr>\n",
       "    <tr>\n",
       "      <th>raw_data</th>\n",
       "      <td>0.931477</td>\n",
       "      <td>0.999986</td>\n",
       "      <td>0.737411</td>\n",
       "    </tr>\n",
       "    <tr>\n",
       "      <th>std(data)</th>\n",
       "      <td>0.927213</td>\n",
       "      <td>0.999986</td>\n",
       "      <td>0.688506</td>\n",
       "    </tr>\n",
       "  </tbody>\n",
       "</table>\n",
       "</div>"
      ],
      "text/plain": [
       "                        test auc  train auc      time\n",
       "cut(data)               0.870326   0.998782  0.498008\n",
       "minmax(data)            0.930144   0.999975  0.722810\n",
       "minmax(pca(std(data)))  0.914834   0.999965  3.458984\n",
       "pca(std(data))          0.909799   0.999952  3.360342\n",
       "qcut(data)              0.928684   0.999944  0.434463\n",
       "raw_data                0.931477   0.999986  0.737411\n",
       "std(data)               0.927213   0.999986  0.688506"
      ]
     },
     "execution_count": 13,
     "metadata": {},
     "output_type": "execute_result"
    }
   ],
   "source": [
    "pd.DataFrame.from_dict(glbl.rf_default_res, orient='index')"
   ]
  },
  {
   "cell_type": "code",
   "execution_count": 14,
   "metadata": {},
   "outputs": [
    {
     "name": "stdout",
     "output_type": "stream",
     "text": [
      "\n",
      "[Function executed for: 27.589376s]\n",
      "\n"
     ]
    },
    {
     "data": {
      "text/plain": [
       "{'test auc': 0.950287, 'train auc': 1.0}"
      ]
     },
     "execution_count": 14,
     "metadata": {},
     "output_type": "execute_result"
    }
   ],
   "source": [
    "# n_estimators 调优\n",
    "@cutil.time_it\n",
    "def anonymous_func():\n",
    "    X_train, X_test, y_train, y_test = cutil.smote_test_pack(test_packs['raw_data'])\n",
    "    \n",
    "    rfc = RandomForestClassifier(n_estimators=160, random_state=RANDOM_STATE)\n",
    "    rfc.fit(X_train, y_train)\n",
    "    \n",
    "    return cutil.is_model_fit(rfc, test_packs['raw_data'])\n",
    "\n",
    "anonymous_func()"
   ]
  },
  {
   "cell_type": "markdown",
   "metadata": {},
   "source": [
    "**可以看到 AUC 有一定提升。**\n",
    "\n",
    "以下使用画图法对 n_estimators 进行调优："
   ]
  },
  {
   "cell_type": "code",
   "execution_count": 14,
   "metadata": {},
   "outputs": [
    {
     "name": "stdout",
     "output_type": "stream",
     "text": [
      "Current: 100\n",
      "\n",
      "[fit executed for: 7.128956s]\n",
      "\n",
      "Current: 120\n",
      "\n",
      "[fit executed for: 8.631961s]\n",
      "\n",
      "Current: 140\n",
      "\n",
      "[fit executed for: 10.134276s]\n",
      "\n",
      "Current: 160\n",
      "\n",
      "[fit executed for: 11.292155s]\n",
      "\n",
      "Current: 180\n",
      "\n",
      "[fit executed for: 13.197641s]\n",
      "\n",
      "Current: 200\n",
      "\n",
      "[fit executed for: 14.333163s]\n",
      "\n"
     ]
    }
   ],
   "source": [
    "# 使用随机森林训练，增加 n_estimators 到 100\n",
    "def anonymous_func():\n",
    "    # AUC 分数\n",
    "    scores_test = []\n",
    "    # n_estimators 取值\n",
    "    estimators = []\n",
    "    \n",
    "    X_train, X_test, y_train, y_test = test_packs['raw_data']\n",
    "\n",
    "    # 设置n_estimators在100-210中每隔20取一个数值\n",
    "    for i in range(100, 201, 20):\n",
    "        print(\"Current:\", i)        \n",
    "        estimators.append(i)\n",
    "        \n",
    "        rf = RandomForestClassifier(n_estimators=i, random_state=RANDOM_STATE)\n",
    "        cutil.TimingFit(rf).fit(X_train, y_train)\n",
    "        scores_test.append(cutil.roc_auc_test(rf, test_packs['raw_data']))\n",
    "        \n",
    "    glbl.score_estimator = (scores_test, estimators)\n",
    "\n",
    "anonymous_func()"
   ]
  },
  {
   "cell_type": "code",
   "execution_count": 15,
   "metadata": {},
   "outputs": [
    {
     "data": {
      "image/png": "[encoded data removed]",
      "text/plain": [
       "<Figure size 576x432 with 1 Axes>"
      ]
     },
     "metadata": {
      "needs_background": "light"
     },
     "output_type": "display_data"
    }
   ],
   "source": [
    "# 画出上一 Cell 的 AUC 折线图，反映不同 n_estimators 下的成绩\n",
    "def anonymous_func():\n",
    "    scores_test, estimators = glbl.score_estimator\n",
    "    \n",
    "    fig, ax = plt.subplots(figsize=(8, 6))\n",
    "\n",
    "    # 设置x y坐标名称\n",
    "    ax.set_xlabel('Estimators')\n",
    "    ax.set_ylabel('AUC 分数')\n",
    "    plt.plot(estimators, scores_test, label='测试集')\n",
    "\n",
    "anonymous_func()"
   ]
  },
  {
   "cell_type": "code",
   "execution_count": 16,
   "metadata": {
    "scrolled": true
   },
   "outputs": [
    {
     "name": "stdout",
     "output_type": "stream",
     "text": [
      "Fitting 4 folds for each of 10 candidates, totalling 40 fits\n"
     ]
    },
    {
     "name": "stderr",
     "output_type": "stream",
     "text": [
      "[Parallel(n_jobs=-1)]: Using backend LokyBackend with 8 concurrent workers.\n",
      "[Parallel(n_jobs=-1)]: Done  25 tasks      | elapsed:  1.3min\n",
      "[Parallel(n_jobs=-1)]: Done  40 out of  40 | elapsed:  1.7min finished\n"
     ]
    }
   ],
   "source": [
    "# 基于网格调参，测试不同的 n_estimators 是否能改善模型性能\n",
    "def anonymous_func():\n",
    "    X_train, X_test, y_train, y_test = test_packs['raw_data']\n",
    "    \n",
    "    tuned_parameters = {\n",
    "        'n_estimators': np.arange(150, 170, 2)\n",
    "    }\n",
    "\n",
    "    gs_rfc = GridSearchCV(\n",
    "        estimator=RandomForestClassifier(random_state=RANDOM_STATE), param_grid=tuned_parameters,\n",
    "        scoring='roc_auc', n_jobs=-1, cv=4, verbose=2)\n",
    "    gs_rfc.fit(X_train, y_train)\n",
    "    \n",
    "    glbl.gs_rfc__n_estimators = gs_rfc\n",
    "\n",
    "anonymous_func()"
   ]
  },
  {
   "cell_type": "code",
   "execution_count": 17,
   "metadata": {},
   "outputs": [
    {
     "data": {
      "text/plain": [
       "\"最佳参数：{'n_estimators': 166}\""
      ]
     },
     "execution_count": 17,
     "metadata": {},
     "output_type": "execute_result"
    },
    {
     "data": {
      "image/png": "[encoded data removed]",
      "text/plain": [
       "<Figure size 576x432 with 1 Axes>"
      ]
     },
     "metadata": {
      "needs_background": "light"
     },
     "output_type": "display_data"
    }
   ],
   "source": [
    "# 绘制出不同 n_estimators 的 AUC 分数图\n",
    "def anonymous_func(gs_rfc):\n",
    "    gs_rfc.cv_results_['param_n_estimators']\n",
    "    gs_rfc.cv_results_['mean_test_score']\n",
    "\n",
    "    fig, ax = plt.subplots(figsize=(8, 6))\n",
    "\n",
    "    sns.lineplot(x=gs_rfc.cv_results_['param_n_estimators'], \n",
    "                 y=gs_rfc.cv_results_['mean_test_score'], ax=ax)\n",
    "\n",
    "    ax.set_title('不同 n_estimators 的 AUC 分数图')\n",
    "    ax.set_xlabel('n_estimators')\n",
    "    ax.set_ylabel('AUC')\n",
    "\n",
    "    # 标注具体值\n",
    "    for x, y in zip(gs_rfc.cv_results_['param_n_estimators'], gs_rfc.cv_results_['mean_test_score']):\n",
    "        ax.text(x, y, str(np.round(y, 3)).replace('0.', '.'), va='bottom', ha='center')\n",
    "        \n",
    "    return f'最佳参数：{gs_rfc.best_params_}'\n",
    "\n",
    "anonymous_func(glbl.gs_rfc__n_estimators)"
   ]
  },
  {
   "cell_type": "code",
   "execution_count": 18,
   "metadata": {},
   "outputs": [
    {
     "name": "stdout",
     "output_type": "stream",
     "text": [
      "Fitting 4 folds for each of 6 candidates, totalling 24 fits\n"
     ]
    },
    {
     "name": "stderr",
     "output_type": "stream",
     "text": [
      "[Parallel(n_jobs=-1)]: Using backend LokyBackend with 8 concurrent workers.\n",
      "[Parallel(n_jobs=-1)]: Done  22 out of  24 | elapsed:   46.7s remaining:    4.2s\n",
      "[Parallel(n_jobs=-1)]: Done  24 out of  24 | elapsed:   46.9s finished\n"
     ]
    }
   ],
   "source": [
    "# 测试 10-35 间不同的 max_depth\n",
    "def anonymous_func():\n",
    "    X_train, X_test, y_train, y_test = test_packs['raw_data']    \n",
    "    \n",
    "    # 使用 GridSearchCV 来并行计算，节省训练时间\n",
    "    tuned_parameters = {\n",
    "        'max_depth': np.arange(5, 21, 3)\n",
    "    }\n",
    "\n",
    "    gs_rfc =  GridSearchCV(\n",
    "        estimator=RandomForestClassifier(n_estimators=166, random_state=RANDOM_STATE), param_grid=tuned_parameters,\n",
    "        scoring='roc_auc', n_jobs=-1, cv=4, verbose=2)\n",
    "    gs_rfc.fit(X_train, y_train)\n",
    "    \n",
    "    glbl.gs_rfc__max_depth = gs_rfc\n",
    "\n",
    "anonymous_func()"
   ]
  },
  {
   "cell_type": "code",
   "execution_count": 19,
   "metadata": {},
   "outputs": [
    {
     "name": "stdout",
     "output_type": "stream",
     "text": [
      "Best params: {'max_depth': 20}\n",
      "AUC: 0.950429\n"
     ]
    },
    {
     "data": {
      "image/png": "[encoded data removed]",
      "text/plain": [
       "<Figure size 576x432 with 1 Axes>"
      ]
     },
     "metadata": {
      "needs_background": "light"
     },
     "output_type": "display_data"
    }
   ],
   "source": [
    "def anonymous_func(gs_rfc):\n",
    "    X_train, X_test, y_train, y_test = test_packs['raw_data']\n",
    "    print('Best params:', gs_rfc.best_params_)\n",
    "    \n",
    "    print('AUC:', cutil.roc_auc_test(gs_rfc.best_estimator_, test_packs['raw_data']))\n",
    "\n",
    "    fig, ax = plt.subplots(figsize=(8, 6))\n",
    "\n",
    "    sns.lineplot(x=gs_rfc.cv_results_['param_max_depth'], \n",
    "                 y=gs_rfc.cv_results_['mean_test_score'], ax=ax)\n",
    "\n",
    "    for x, y in zip(gs_rfc.cv_results_['param_max_depth'], gs_rfc.cv_results_['mean_test_score']):\n",
    "            ax.text(x, y, str(np.round(y, 3)).replace('0.', '.'), va='bottom', ha='center')\n",
    "\n",
    "    ax.set_title('不同 max_depth 的 AUC 分数图')\n",
    "    ax.set_xlabel('max_depth')\n",
    "    ax.set_ylabel('AUC')\n",
    "    \n",
    "anonymous_func(glbl.gs_rfc__max_depth)"
   ]
  },
  {
   "cell_type": "code",
   "execution_count": 20,
   "metadata": {},
   "outputs": [
    {
     "data": {
      "text/plain": [
       "RandomForestClassifier(bootstrap=True, class_weight=None, criterion='gini',\n",
       "                       max_depth=20, max_features='auto', max_leaf_nodes=None,\n",
       "                       min_impurity_decrease=0.0, min_impurity_split=None,\n",
       "                       min_samples_leaf=1, min_samples_split=2,\n",
       "                       min_weight_fraction_leaf=0.0, n_estimators=166,\n",
       "                       n_jobs=None, oob_score=False, random_state=233,\n",
       "                       verbose=0, warm_start=False)"
      ]
     },
     "execution_count": 20,
     "metadata": {},
     "output_type": "execute_result"
    }
   ],
   "source": [
    "glbl.gs_rfc__max_depth.best_estimator_"
   ]
  },
  {
   "cell_type": "markdown",
   "metadata": {},
   "source": [
    "## SVM\n",
    "----"
   ]
  },
  {
   "cell_type": "code",
   "execution_count": 10,
   "metadata": {},
   "outputs": [
    {
     "name": "stdout",
     "output_type": "stream",
     "text": [
      "cut(data): {'test accuracy': 0.742368, 'train accuracy': 0.744381, 'time': 334.77472}\n"
     ]
    },
    {
     "name": "stderr",
     "output_type": "stream",
     "text": [
      "c:\\python37\\lib\\site-packages\\sklearn\\svm\\base.py:241: ConvergenceWarning: Solver terminated early (max_iter=100000).  Consider pre-processing your data with StandardScaler or MinMaxScaler.\n",
      "  % self.max_iter, ConvergenceWarning)\n"
     ]
    },
    {
     "name": "stdout",
     "output_type": "stream",
     "text": [
      "minmax(data): {'test accuracy': 0.796028, 'train accuracy': 0.798759, 'time': 73.441964}\n",
      "minmax(pca(std(data))): {'test accuracy': 0.832154, 'train accuracy': 0.832616, 'time': 68.363616}\n"
     ]
    },
    {
     "name": "stderr",
     "output_type": "stream",
     "text": [
      "c:\\python37\\lib\\site-packages\\sklearn\\svm\\base.py:241: ConvergenceWarning: Solver terminated early (max_iter=100000).  Consider pre-processing your data with StandardScaler or MinMaxScaler.\n",
      "  % self.max_iter, ConvergenceWarning)\n"
     ]
    },
    {
     "name": "stdout",
     "output_type": "stream",
     "text": [
      "pca(std(data)): {'test accuracy': 0.876413, 'train accuracy': 0.875584, 'time': 113.752193}\n"
     ]
    },
    {
     "name": "stderr",
     "output_type": "stream",
     "text": [
      "c:\\python37\\lib\\site-packages\\sklearn\\svm\\base.py:241: ConvergenceWarning: Solver terminated early (max_iter=100000).  Consider pre-processing your data with StandardScaler or MinMaxScaler.\n",
      "  % self.max_iter, ConvergenceWarning)\n"
     ]
    },
    {
     "name": "stdout",
     "output_type": "stream",
     "text": [
      "qcut(data): {'test accuracy': 0.948241, 'train accuracy': 0.948026, 'time': 332.777044}\n"
     ]
    },
    {
     "name": "stderr",
     "output_type": "stream",
     "text": [
      "c:\\python37\\lib\\site-packages\\sklearn\\svm\\base.py:241: ConvergenceWarning: Solver terminated early (max_iter=100000).  Consider pre-processing your data with StandardScaler or MinMaxScaler.\n",
      "  % self.max_iter, ConvergenceWarning)\n"
     ]
    },
    {
     "name": "stdout",
     "output_type": "stream",
     "text": [
      "raw_data: {'test accuracy': 0.157811, 'train accuracy': 0.162366, 'time': 11.754956}\n"
     ]
    },
    {
     "name": "stderr",
     "output_type": "stream",
     "text": [
      "c:\\python37\\lib\\site-packages\\sklearn\\svm\\base.py:241: ConvergenceWarning: Solver terminated early (max_iter=100000).  Consider pre-processing your data with StandardScaler or MinMaxScaler.\n",
      "  % self.max_iter, ConvergenceWarning)\n"
     ]
    },
    {
     "name": "stdout",
     "output_type": "stream",
     "text": [
      "std(data): {'test accuracy': 0.882222, 'train accuracy': 0.881579, 'time': 118.710281}\n",
      "\n",
      "[Function executed for: 1408.46625s]\n",
      "\n"
     ]
    }
   ],
   "source": [
    "@cutil.time_it\n",
    "def anonymous_func():\n",
    "    glbl.linear_svc_default = cutil.default_param_on_model(SVC(\n",
    "        kernel='linear',\n",
    "        random_state=RANDOM_STATE,\n",
    "        class_weight='balanced', max_iter=100000), test_packs)\n",
    "    \n",
    "anonymous_func()"
   ]
  },
  {
   "cell_type": "code",
   "execution_count": 12,
   "metadata": {},
   "outputs": [
    {
     "name": "stdout",
     "output_type": "stream",
     "text": [
      "cut(data): {'test accuracy': 0.893842, 'train accuracy': 0.891985, 'time': 326.021825}\n",
      "minmax(data): {'test accuracy': 0.853914, 'train accuracy': 0.8651, 'time': 150.265902}\n",
      "minmax(pca(std(data))): {'test accuracy': 0.91782, 'train accuracy': 0.918896, 'time': 120.285789}\n",
      "pca(std(data)): {'test accuracy': 0.962396, 'train accuracy': 0.96477, 'time': 104.632602}\n",
      "qcut(data): {'test accuracy': 0.976444, 'train accuracy': 0.988591, 'time': 243.229271}\n",
      "raw_data: {'test accuracy': 0.879265, 'train accuracy': 0.881738, 'time': 188.219933}\n",
      "std(data): {'test accuracy': 0.961762, 'train accuracy': 0.963449, 'time': 106.139377}\n",
      "\n",
      "[Function executed for: 1676.226325s]\n",
      "\n"
     ]
    }
   ],
   "source": [
    "@cutil.time_it\n",
    "def anonymous_func():\n",
    "    glbl.svc_default = cutil.default_param_on_model(SVC(\n",
    "        kernel='rbf',\n",
    "        random_state=RANDOM_STATE, cache_size=8192,\n",
    "        class_weight='balanced', max_iter=100000, gamma='scale'), test_packs)\n",
    "\n",
    "anonymous_func()"
   ]
  },
  {
   "cell_type": "code",
   "execution_count": 21,
   "metadata": {},
   "outputs": [
    {
     "data": {
      "text/plain": [
       "SVC(C=1.0, cache_size=8192, class_weight='balanced', coef0=0.0,\n",
       "    decision_function_shape='ovr', degree=3, gamma='scale', kernel='rbf',\n",
       "    max_iter=100000, probability=False, random_state=233, shrinking=True,\n",
       "    tol=0.001, verbose=False)"
      ]
     },
     "execution_count": 21,
     "metadata": {},
     "output_type": "execute_result"
    }
   ],
   "source": [
    "def anonymous_func():\n",
    "    X_train, X_test, y_train, y_test = test_packs['qcut(data)']\n",
    "\n",
    "    svc = SVC(kernel='rbf',\n",
    "              random_state=RANDOM_STATE, cache_size=8192,\n",
    "              class_weight='balanced', max_iter=100000, gamma='scale')\n",
    "    svc.fit(X_train, y_train)\n",
    "\n",
    "    trained_models.svm_best = svc\n",
    "    return svc\n",
    "\n",
    "anonymous_func()"
   ]
  },
  {
   "cell_type": "code",
   "execution_count": 26,
   "metadata": {},
   "outputs": [],
   "source": [
    "cutil.persistent(trained_models.svm_best, 'SVM.model')"
   ]
  },
  {
   "cell_type": "markdown",
   "metadata": {},
   "source": [
    "## MLP\n",
    "----"
   ]
  },
  {
   "cell_type": "code",
   "execution_count": 15,
   "metadata": {},
   "outputs": [
    {
     "name": "stdout",
     "output_type": "stream",
     "text": [
      "cut(data): {'test auc': 0.847915, 'train auc': 0.985561, 'time': 111.021518}\n",
      "minmax(data): {'test auc': 0.929511, 'train auc': 0.975534, 'time': 38.011461}\n",
      "minmax(pca(std(data))): {'test auc': 0.911658, 'train auc': 0.91615, 'time': 54.635727}\n",
      "pca(std(data)): {'test auc': 0.920668, 'train auc': 0.998729, 'time': 67.610267}\n",
      "qcut(data): {'test auc': 0.932023, 'train auc': 0.999966, 'time': 38.235463}\n",
      "raw_data: {'test auc': 0.852379, 'train auc': 0.873947, 'time': 48.458694}\n",
      "std(data): {'test auc': 0.926704, 'train auc': 0.996497, 'time': 60.298745}\n"
     ]
    }
   ],
   "source": [
    "glbl.mlp_default_res = cutil.default_param_on_model(\n",
    "    MLPClassifier(random_state=RANDOM_STATE, max_iter=500),\n",
    "    test_packs)"
   ]
  },
  {
   "cell_type": "code",
   "execution_count": 16,
   "metadata": {},
   "outputs": [
    {
     "data": {
      "text/html": [
       "<div>\n",
       "<style scoped>\n",
       "    .dataframe tbody tr th:only-of-type {\n",
       "        vertical-align: middle;\n",
       "    }\n",
       "\n",
       "    .dataframe tbody tr th {\n",
       "        vertical-align: top;\n",
       "    }\n",
       "\n",
       "    .dataframe thead th {\n",
       "        text-align: right;\n",
       "    }\n",
       "</style>\n",
       "<table border=\"1\" class=\"dataframe\">\n",
       "  <thead>\n",
       "    <tr style=\"text-align: right;\">\n",
       "      <th></th>\n",
       "      <th>test auc</th>\n",
       "      <th>train auc</th>\n",
       "      <th>time</th>\n",
       "    </tr>\n",
       "  </thead>\n",
       "  <tbody>\n",
       "    <tr>\n",
       "      <th>cut(data)</th>\n",
       "      <td>0.847915</td>\n",
       "      <td>0.985561</td>\n",
       "      <td>111.021518</td>\n",
       "    </tr>\n",
       "    <tr>\n",
       "      <th>minmax(data)</th>\n",
       "      <td>0.929511</td>\n",
       "      <td>0.975534</td>\n",
       "      <td>38.011461</td>\n",
       "    </tr>\n",
       "    <tr>\n",
       "      <th>minmax(pca(std(data)))</th>\n",
       "      <td>0.911658</td>\n",
       "      <td>0.916150</td>\n",
       "      <td>54.635727</td>\n",
       "    </tr>\n",
       "    <tr>\n",
       "      <th>pca(std(data))</th>\n",
       "      <td>0.920668</td>\n",
       "      <td>0.998729</td>\n",
       "      <td>67.610267</td>\n",
       "    </tr>\n",
       "    <tr>\n",
       "      <th>qcut(data)</th>\n",
       "      <td>0.932023</td>\n",
       "      <td>0.999966</td>\n",
       "      <td>38.235463</td>\n",
       "    </tr>\n",
       "    <tr>\n",
       "      <th>raw_data</th>\n",
       "      <td>0.852379</td>\n",
       "      <td>0.873947</td>\n",
       "      <td>48.458694</td>\n",
       "    </tr>\n",
       "    <tr>\n",
       "      <th>std(data)</th>\n",
       "      <td>0.926704</td>\n",
       "      <td>0.996497</td>\n",
       "      <td>60.298745</td>\n",
       "    </tr>\n",
       "  </tbody>\n",
       "</table>\n",
       "</div>"
      ],
      "text/plain": [
       "                        test auc  train auc        time\n",
       "cut(data)               0.847915   0.985561  111.021518\n",
       "minmax(data)            0.929511   0.975534   38.011461\n",
       "minmax(pca(std(data)))  0.911658   0.916150   54.635727\n",
       "pca(std(data))          0.920668   0.998729   67.610267\n",
       "qcut(data)              0.932023   0.999966   38.235463\n",
       "raw_data                0.852379   0.873947   48.458694\n",
       "std(data)               0.926704   0.996497   60.298745"
      ]
     },
     "execution_count": 16,
     "metadata": {},
     "output_type": "execute_result"
    }
   ],
   "source": [
    "pd.DataFrame.from_dict(glbl.mlp_default_res, orient='index')"
   ]
  },
  {
   "cell_type": "code",
   "execution_count": 26,
   "metadata": {},
   "outputs": [
    {
     "data": {
      "text/plain": [
       "{'test auc': 0.931587, 'train auc': 0.999995}"
      ]
     },
     "execution_count": 26,
     "metadata": {},
     "output_type": "execute_result"
    }
   ],
   "source": [
    "def anonymous_func():\n",
    "    X_train, X_test, y_train, y_test = test_packs['qcut(data)']    \n",
    "    \n",
    "    mlp = MLPClassifier(\n",
    "        random_state=RANDOM_STATE, max_iter=500,\n",
    "        hidden_layer_sizes=(64, 32))\n",
    "    mlp.fit(X_train, y_train)\n",
    "    \n",
    "    glbl.mlp_64_32 = mlp\n",
    "    \n",
    "    return cutil.is_model_fit(mlp, test_packs['qcut(data)'])\n",
    "\n",
    "anonymous_func()"
   ]
  },
  {
   "cell_type": "code",
   "execution_count": 32,
   "metadata": {},
   "outputs": [
    {
     "name": "stdout",
     "output_type": "stream",
     "text": [
      "Iteration 1, loss = 0.19775155\n",
      "Iteration 2, loss = 0.13638865\n",
      "Iteration 3, loss = 0.12111769\n",
      "Iteration 4, loss = 0.11447649\n",
      "Iteration 5, loss = 0.11149320\n",
      "Iteration 6, loss = 0.11049179\n",
      "Iteration 7, loss = 0.10845038\n",
      "Iteration 8, loss = 0.10660228\n",
      "Iteration 9, loss = 0.10664504\n",
      "Iteration 10, loss = 0.10616067\n",
      "Iteration 11, loss = 0.10568906\n",
      "Iteration 12, loss = 0.10437023\n",
      "Iteration 13, loss = 0.10386542\n",
      "Iteration 14, loss = 0.10348004\n",
      "Iteration 15, loss = 0.10295526\n",
      "Iteration 16, loss = 0.10232080\n",
      "Iteration 17, loss = 0.10246786\n",
      "Iteration 18, loss = 0.10197464\n",
      "Iteration 19, loss = 0.10144660\n",
      "Iteration 20, loss = 0.10130555\n",
      "Iteration 21, loss = 0.09991772\n",
      "Iteration 22, loss = 0.10031484\n",
      "Iteration 23, loss = 0.09937995\n",
      "Iteration 24, loss = 0.09914084\n",
      "Iteration 25, loss = 0.09907563\n",
      "Iteration 26, loss = 0.09885227\n",
      "Iteration 27, loss = 0.09838765\n",
      "Iteration 28, loss = 0.09803454\n",
      "Iteration 29, loss = 0.09737425\n",
      "Iteration 30, loss = 0.09857799\n",
      "Iteration 31, loss = 0.09734478\n",
      "Iteration 32, loss = 0.09676447\n",
      "Iteration 33, loss = 0.09619626\n",
      "Iteration 34, loss = 0.09615115\n",
      "Iteration 35, loss = 0.09612110\n",
      "Iteration 36, loss = 0.09678909\n",
      "Iteration 37, loss = 0.09577412\n",
      "Iteration 38, loss = 0.09554989\n",
      "Iteration 39, loss = 0.09540153\n",
      "Iteration 40, loss = 0.09541633\n",
      "Iteration 41, loss = 0.09481263\n",
      "Iteration 42, loss = 0.09441122\n",
      "Iteration 43, loss = 0.09487912\n",
      "Iteration 44, loss = 0.09475186\n",
      "Iteration 45, loss = 0.09471751\n",
      "Iteration 46, loss = 0.09414328\n",
      "Iteration 47, loss = 0.09358694\n",
      "Iteration 48, loss = 0.09348936\n",
      "Iteration 49, loss = 0.09381375\n",
      "Iteration 50, loss = 0.09335186\n",
      "Iteration 51, loss = 0.09326203\n",
      "Iteration 52, loss = 0.09329242\n",
      "Iteration 53, loss = 0.09380791\n",
      "Iteration 54, loss = 0.09213095\n",
      "Iteration 55, loss = 0.09301705\n",
      "Iteration 56, loss = 0.09265978\n",
      "Iteration 57, loss = 0.09244153\n",
      "Iteration 58, loss = 0.09238146\n",
      "Iteration 59, loss = 0.09263107\n",
      "Iteration 60, loss = 0.09194670\n",
      "Iteration 61, loss = 0.09181067\n",
      "Iteration 62, loss = 0.09206530\n",
      "Iteration 63, loss = 0.09191348\n",
      "Iteration 64, loss = 0.09176231\n",
      "Iteration 65, loss = 0.09155717\n",
      "Iteration 66, loss = 0.09201104\n",
      "Iteration 67, loss = 0.09160484\n",
      "Iteration 68, loss = 0.09108405\n",
      "Iteration 69, loss = 0.09154808\n",
      "Iteration 70, loss = 0.09163217\n",
      "Iteration 71, loss = 0.09105939\n",
      "Iteration 72, loss = 0.09128064\n",
      "Iteration 73, loss = 0.09076984\n",
      "Iteration 74, loss = 0.09081629\n",
      "Iteration 75, loss = 0.09092719\n",
      "Iteration 76, loss = 0.09130631\n",
      "Iteration 77, loss = 0.09128676\n",
      "Iteration 78, loss = 0.09057237\n",
      "Iteration 79, loss = 0.09075874\n",
      "Iteration 80, loss = 0.09071735\n",
      "Iteration 81, loss = 0.09055954\n",
      "Iteration 82, loss = 0.09106968\n",
      "Iteration 83, loss = 0.09099800\n",
      "Iteration 84, loss = 0.09005656\n",
      "Iteration 85, loss = 0.09024464\n",
      "Iteration 86, loss = 0.09036608\n",
      "Iteration 87, loss = 0.09046399\n",
      "Iteration 88, loss = 0.09046034\n",
      "Iteration 89, loss = 0.09019489\n",
      "Iteration 90, loss = 0.09017799\n",
      "Iteration 91, loss = 0.09057206\n",
      "Iteration 92, loss = 0.08963666\n",
      "Iteration 93, loss = 0.08994838\n",
      "Iteration 94, loss = 0.09023075\n",
      "Iteration 95, loss = 0.09014819\n",
      "Iteration 96, loss = 0.09024172\n",
      "Iteration 97, loss = 0.09057778\n",
      "Iteration 98, loss = 0.09009438\n",
      "Iteration 99, loss = 0.08939143\n",
      "Iteration 100, loss = 0.08962291\n",
      "Iteration 101, loss = 0.08993264\n",
      "Iteration 102, loss = 0.08985371\n",
      "Iteration 103, loss = 0.09019823\n",
      "Iteration 104, loss = 0.08953038\n",
      "Iteration 105, loss = 0.08954143\n",
      "Iteration 106, loss = 0.09002133\n",
      "Iteration 107, loss = 0.08988851\n",
      "Iteration 108, loss = 0.08953415\n",
      "Iteration 109, loss = 0.08921834\n",
      "Iteration 110, loss = 0.08959911\n",
      "Iteration 111, loss = 0.08908321\n",
      "Iteration 112, loss = 0.08959055\n",
      "Iteration 113, loss = 0.08926417\n",
      "Iteration 114, loss = 0.08949815\n",
      "Iteration 115, loss = 0.08938384\n",
      "Iteration 116, loss = 0.08945479\n",
      "Iteration 117, loss = 0.08901311\n",
      "Iteration 118, loss = 0.08871334\n",
      "Iteration 119, loss = 0.08938797\n",
      "Iteration 120, loss = 0.08956765\n",
      "Iteration 121, loss = 0.08948074\n",
      "Iteration 122, loss = 0.08909009\n",
      "Iteration 123, loss = 0.08925383\n",
      "Iteration 124, loss = 0.08922717\n",
      "Iteration 125, loss = 0.08909186\n",
      "Iteration 126, loss = 0.08860057\n",
      "Iteration 127, loss = 0.08921065\n",
      "Iteration 128, loss = 0.08935376\n",
      "Iteration 129, loss = 0.08976776\n",
      "Iteration 130, loss = 0.08845403\n",
      "Iteration 131, loss = 0.08873270\n",
      "Iteration 132, loss = 0.08932771\n",
      "Iteration 133, loss = 0.08922926\n",
      "Iteration 134, loss = 0.08850337\n",
      "Iteration 135, loss = 0.08898029\n",
      "Iteration 136, loss = 0.08893100\n",
      "Iteration 137, loss = 0.08865170\n",
      "Iteration 138, loss = 0.08959621\n",
      "Iteration 139, loss = 0.08913252\n",
      "Iteration 140, loss = 0.08840842\n",
      "Iteration 141, loss = 0.08890449\n",
      "Training loss did not improve more than tol=0.000100 for 10 consecutive epochs. Stopping.\n"
     ]
    },
    {
     "data": {
      "text/plain": [
       "{'test auc': 0.942806, 'train auc': 0.992061}"
      ]
     },
     "execution_count": 32,
     "metadata": {},
     "output_type": "execute_result"
    }
   ],
   "source": [
    "def anonymous_func():\n",
    "    X_train, X_test, y_train, y_test = test_packs['qcut(data)']    \n",
    "    \n",
    "    mlp = MLPClassifier(\n",
    "        random_state=RANDOM_STATE, max_iter=500,\n",
    "        hidden_layer_sizes=(1024,), alpha=0.1, verbose=1)\n",
    "    mlp.fit(X_train, y_train)\n",
    "    \n",
    "    glbl.mlp_1024 = mlp\n",
    "    \n",
    "    return cutil.is_model_fit(mlp, test_packs['qcut(data)'])\n",
    "\n",
    "anonymous_func()"
   ]
  },
  {
   "cell_type": "code",
   "execution_count": 35,
   "metadata": {},
   "outputs": [
    {
     "data": {
      "text/plain": [
       "MLPClassifier(activation='relu', alpha=0.1, batch_size='auto', beta_1=0.9,\n",
       "              beta_2=0.999, early_stopping=False, epsilon=1e-08,\n",
       "              hidden_layer_sizes=(1024,), learning_rate='constant',\n",
       "              learning_rate_init=0.001, max_iter=500, momentum=0.9,\n",
       "              n_iter_no_change=10, nesterovs_momentum=True, power_t=0.5,\n",
       "              random_state=233, shuffle=True, solver='adam', tol=0.0001,\n",
       "              validation_fraction=0.1, verbose=1, warm_start=False)"
      ]
     },
     "execution_count": 35,
     "metadata": {},
     "output_type": "execute_result"
    }
   ],
   "source": [
    "glbl.mlp_1024"
   ]
  },
  {
   "cell_type": "markdown",
   "metadata": {},
   "source": [
    "## GBDT\n",
    "----"
   ]
  },
  {
   "cell_type": "code",
   "execution_count": 8,
   "metadata": {},
   "outputs": [
    {
     "name": "stdout",
     "output_type": "stream",
     "text": [
      "cut(data): {'test auc': 0.88618, 'train auc': 0.931823, 'time': 0.438938}\n",
      "minmax(data): {'test auc': 0.96443, 'train auc': 0.998509, 'time': 0.725155}\n",
      "minmax(pca(std(data))): {'test auc': 0.934991, 'train auc': 0.995259, 'time': 1.420896}\n",
      "pca(std(data)): {'test auc': 0.932638, 'train auc': 0.995296, 'time': 1.25226}\n",
      "qcut(data): {'test auc': 0.94793, 'train auc': 0.994058, 'time': 0.51194}\n",
      "raw_data: {'test auc': 0.961751, 'train auc': 0.998423, 'time': 0.749268}\n",
      "std(data): {'test auc': 0.960628, 'train auc': 0.998411, 'time': 0.751554}\n"
     ]
    }
   ],
   "source": [
    "glbl.gbdt_default_res = cutil.default_param_on_model(\n",
    "    LGBMClassifier(is_unbalance=True, random_state=RANDOM_STATE), test_packs)\n",
    "cutil.dump_to_json(glbl.gbdt_default_res, 'GBDT-DataPrefer')"
   ]
  },
  {
   "cell_type": "code",
   "execution_count": 21,
   "metadata": {},
   "outputs": [
    {
     "name": "stdout",
     "output_type": "stream",
     "text": [
      "100%|████████████████████████████████████████████████████████| 1000/1000 [17:48<00:00,  1.33s/it, best loss: -0.961739]\n"
     ]
    },
    {
     "data": {
      "text/plain": [
       "{'bagging_fraction': 0.5000000000000001,\n",
       " 'feature_fraction': 0.7000000000000001,\n",
       " 'lambda_l1': 10,\n",
       " 'lambda_l2': 0.01,\n",
       " 'max_bin': 255,\n",
       " 'max_depth': 6,\n",
       " 'min_data_in_leaf': 20,\n",
       " 'num_leaves': 15}"
      ]
     },
     "execution_count": 21,
     "metadata": {},
     "output_type": "execute_result"
    }
   ],
   "source": [
    "def anonymous_func():\n",
    "    # Python 闭包\n",
    "    X_train, X_validate, X_test, y_train, y_validate, y_test = test_validate_packs['minmax(data)']\n",
    "    eval_set = [(X_validate, y_validate)]\n",
    "\n",
    "    def target_func(params):\n",
    "        lgmbc = LGBMClassifier(\n",
    "            is_unbalance=True, random_state=RANDOM_STATE, silent=True,\n",
    "            n_estimators=512,\n",
    "            **params)\n",
    "        lgmbc.fit(\n",
    "            X_train, y_train, \n",
    "            eval_set=eval_set, early_stopping_rounds=20, verbose=False)\n",
    "        return -cutil.roc_on_data(lgmbc, X_validate, y_validate)\n",
    "    \n",
    "    hp = hyperopt.hp    \n",
    "    space = {\n",
    "        'max_depth': hp.randint('max_depth', 9) + 3,\n",
    "        'num_leaves': hp.choice('num_leaves', [255, 127, 63, 47, 31, 15]),\n",
    "        'min_data_in_leaf': hp.randint('min_data_in_leaf', 30) + 10,\n",
    "        'bagging_fraction': hp.choice('bagging_fraction', np.arange(0.1, 1.0, 0.2)),\n",
    "        'feature_fraction': hp.choice('feature_fraction', np.arange(0.1, 1.0, 0.2)),\n",
    "        'max_bin': hp.choice('max_bin', [255, 127, 63]),\n",
    "        'lambda_l1': hp.choice('lambda_l1', [0.001, 0.01, 0.1, 0, 1, 10, 100]),\n",
    "        'lambda_l2': hp.choice('lambda_l2', [0.001, 0.01, 0.1, 0, 1, 10, 100]),\n",
    "    }\n",
    "    glbl.best_lgmbc_param = hyperopt.space_eval(space, hyperopt.fmin(\n",
    "        fn=target_func,\n",
    "        space=space,\n",
    "        algo=hyperopt.tpe.suggest,\n",
    "        max_evals=1000\n",
    "    ))\n",
    "    return glbl.best_lgmbc_param\n",
    "\n",
    "anonymous_func()"
   ]
  },
  {
   "cell_type": "code",
   "execution_count": 23,
   "metadata": {},
   "outputs": [
    {
     "data": {
      "text/plain": [
       "{'test auc': 0.96606, 'train auc': 0.998883}"
      ]
     },
     "execution_count": 23,
     "metadata": {},
     "output_type": "execute_result"
    }
   ],
   "source": [
    "def anonymous_func():\n",
    "    X_train, X_test, y_train, y_test = test_packs['minmax(data)']\n",
    "    params = {\n",
    "        'bagging_fraction': 0.5000000000000001,\n",
    "        'feature_fraction': 0.7000000000000001,\n",
    "        'lambda_l1': 10,\n",
    "        'lambda_l2': 0.01,\n",
    "        'max_bin': 255,\n",
    "        'max_depth': 6,\n",
    "        'min_data_in_leaf': 20,\n",
    "        'num_leaves': 15}\n",
    "\n",
    "    lgmbc = LGBMClassifier(\n",
    "        is_unbalance=True, random_state=RANDOM_STATE, silent=True,\n",
    "        n_estimators=512,\n",
    "        **params)\n",
    "    lgmbc.fit(\n",
    "        X_train, y_train,\n",
    "        eval_set=[(X_test, y_test)], early_stopping_rounds=20, verbose=False)\n",
    "    trained_models.lgmbc_best = lgmbc\n",
    "    \n",
    "    return cutil.is_model_fit(lgmbc, test_packs['minmax(data)'])\n",
    "\n",
    "\n",
    "anonymous_func()"
   ]
  },
  {
   "cell_type": "code",
   "execution_count": 24,
   "metadata": {},
   "outputs": [],
   "source": [
    "cutil.persistent(trained_models.lgmbc_best, 'GBDT(LightGBM).model')"
   ]
  },
  {
   "cell_type": "code",
   "execution_count": null,
   "metadata": {},
   "outputs": [
    {
     "name": "stdout",
     "output_type": "stream",
     "text": [
      "cut(data): {'test auc': 0.887824, 'train auc': 0.901068, 'time': 140.463024}\n",
      "minmax(data): {'test auc': 0.965453, 'train auc': 0.992506, 'time': 55.085802}\n",
      "minmax(pca(std(data))): {'test auc': 0.933382, 'train auc': 0.974538, 'time': 92.171421}\n"
     ]
    }
   ],
   "source": [
    "cutil.default_param_on_model(\n",
    "    GradientBoostingClassifier(random_state=RANDOM_STATE, n_estimators=512), test_packs)"
   ]
  },
  {
   "cell_type": "markdown",
   "metadata": {},
   "source": [
    "## KNN\n",
    "----"
   ]
  },
  {
   "cell_type": "code",
   "execution_count": 11,
   "metadata": {},
   "outputs": [
    {
     "name": "stdout",
     "output_type": "stream",
     "text": [
      "cut(data): {'test auc': 0.758303, 'train auc': 0.962499, 'time': 2.507933}\n",
      "minmax(data): {'test auc': 0.682934, 'train auc': 0.949714, 'time': 1.654541}\n",
      "minmax(pca(std(data))): {'test auc': 0.730097, 'train auc': 0.965363, 'time': 0.117041}\n",
      "pca(std(data)): {'test auc': 0.833623, 'train auc': 0.984549, 'time': 0.128482}\n",
      "qcut(data): {'test auc': 0.892483, 'train auc': 0.990799, 'time': 2.597383}\n",
      "raw_data: {'test auc': 0.850908, 'train auc': 0.986241, 'time': 0.28946}\n",
      "std(data): {'test auc': 0.833623, 'train auc': 0.984544, 'time': 0.377593}\n"
     ]
    }
   ],
   "source": [
    "glbl.knn_default_res = cutil.default_param_on_model(\n",
    "    KNeighborsClassifier(n_jobs=4),\n",
    "    test_packs)\n",
    "cutil.dump_to_json(glbl.knn_default_res, 'KNN-DataPrefer')"
   ]
  },
  {
   "cell_type": "code",
   "execution_count": 20,
   "metadata": {},
   "outputs": [
    {
     "name": "stdout",
     "output_type": "stream",
     "text": [
      "\n",
      "[Function executed for: 135.442553s]\n",
      "\n"
     ]
    },
    {
     "data": {
      "text/plain": [
       "{'test auc': 0.892483, 'train auc': 0.990799}"
      ]
     },
     "execution_count": 20,
     "metadata": {},
     "output_type": "execute_result"
    }
   ],
   "source": [
    "@cutil.time_it\n",
    "def anonymous_func():\n",
    "    X_train, X_test, y_train, y_test = test_packs['qcut(data)']    \n",
    "    \n",
    "    glbl.knn = KNeighborsClassifier(n_jobs=4)\n",
    "    glbl.knn.fit(X_train, y_train)\n",
    "    \n",
    "    return cutil.is_model_fit(glbl.knn, test_packs['qcut(data)'])\n",
    "\n",
    "anonymous_func()"
   ]
  },
  {
   "cell_type": "markdown",
   "metadata": {},
   "source": [
    "## 模型综合评估\n",
    "----"
   ]
  },
  {
   "cell_type": "code",
   "execution_count": 25,
   "metadata": {},
   "outputs": [],
   "source": [
    "train_target = {\n",
    "    'Logistic': ('qcut(data)', LogisticRegression(\n",
    "            solver='liblinear', max_iter=1000, C=100, penalty='l2')),\n",
    "    'RandomForest': ('raw_data', RandomForestClassifier(\n",
    "        n_estimators=166, random_state=RANDOM_STATE, max_depth=20)),\n",
    "    'MLP': ('qcut(data)', MLPClassifier(\n",
    "        random_state=RANDOM_STATE, max_iter=500,\n",
    "        hidden_layer_sizes=(1024,), alpha=0.1, verbose=1, early_stopping=True)),\n",
    "    'SVM': ('qcut(data)', SVC(kernel='rbf',\n",
    "              random_state=RANDOM_STATE, cache_size=8192,\n",
    "              class_weight='balanced', max_iter=100000, gamma='scale')),\n",
    "    'GBDT': ('raw_data', LGBMClassifier(\n",
    "        is_unbalance=True, random_state=RANDOM_STATE, silent=True,\n",
    "        n_estimators=512, bagging_fraction=0.5, feature_fraction=0.7, \n",
    "        lambda_l1=10, lambda_l2=0.01, max_bin=255, \n",
    "        max_depth=6, min_data_in_leaf=20, num_leaves=15)),\n",
    "    'KNN': ('qcut(data)', KNeighborsClassifier(n_jobs=4)),    \n",
    "}\n",
    "\n",
    "def pack_data_of(model):\n",
    "    return train_target[model][0]\n",
    "    \n",
    "train_target_skip = set()"
   ]
  },
  {
   "cell_type": "code",
   "execution_count": 9,
   "metadata": {},
   "outputs": [],
   "source": [
    "evaluate_models = dict()"
   ]
  },
  {
   "cell_type": "code",
   "execution_count": 42,
   "metadata": {
    "collapsed": true
   },
   "outputs": [
    {
     "name": "stdout",
     "output_type": "stream",
     "text": [
      "[Now training: Logistic]\n",
      "\n",
      "[fit executed for: 0.446394s]\n",
      "\n",
      "[Now training: RandomForest]\n",
      "\n",
      "[fit executed for: 11.875659s]\n",
      "\n",
      "[Now training: MLP]\n",
      "Iteration 1, loss = 0.19775155\n",
      "Iteration 2, loss = 0.13638865\n",
      "Iteration 3, loss = 0.12111769\n",
      "Iteration 4, loss = 0.11447649\n",
      "Iteration 5, loss = 0.11149320\n",
      "Iteration 6, loss = 0.11049179\n",
      "Iteration 7, loss = 0.10845038\n",
      "Iteration 8, loss = 0.10660228\n",
      "Iteration 9, loss = 0.10664504\n",
      "Iteration 10, loss = 0.10616067\n",
      "Iteration 11, loss = 0.10568906\n",
      "Iteration 12, loss = 0.10437023\n",
      "Iteration 13, loss = 0.10386542\n",
      "Iteration 14, loss = 0.10348004\n",
      "Iteration 15, loss = 0.10295526\n",
      "Iteration 16, loss = 0.10232080\n",
      "Iteration 17, loss = 0.10246786\n",
      "Iteration 18, loss = 0.10197464\n",
      "Iteration 19, loss = 0.10144660\n",
      "Iteration 20, loss = 0.10130555\n",
      "Iteration 21, loss = 0.09991772\n",
      "Iteration 22, loss = 0.10031484\n",
      "Iteration 23, loss = 0.09937995\n",
      "Iteration 24, loss = 0.09914084\n",
      "Iteration 25, loss = 0.09907563\n",
      "Iteration 26, loss = 0.09885227\n",
      "Iteration 27, loss = 0.09838765\n",
      "Iteration 28, loss = 0.09803454\n",
      "Iteration 29, loss = 0.09737425\n",
      "Iteration 30, loss = 0.09857799\n",
      "Iteration 31, loss = 0.09734478\n",
      "Iteration 32, loss = 0.09676447\n",
      "Iteration 33, loss = 0.09619626\n",
      "Iteration 34, loss = 0.09615115\n",
      "Iteration 35, loss = 0.09612110\n",
      "Iteration 36, loss = 0.09678909\n",
      "Iteration 37, loss = 0.09577412\n",
      "Iteration 38, loss = 0.09554989\n",
      "Iteration 39, loss = 0.09540153\n",
      "Iteration 40, loss = 0.09541633\n",
      "Iteration 41, loss = 0.09481263\n",
      "Iteration 42, loss = 0.09441122\n",
      "Iteration 43, loss = 0.09487912\n",
      "Iteration 44, loss = 0.09475186\n",
      "Iteration 45, loss = 0.09471751\n",
      "Iteration 46, loss = 0.09414328\n",
      "Iteration 47, loss = 0.09358694\n",
      "Iteration 48, loss = 0.09348936\n",
      "Iteration 49, loss = 0.09381375\n",
      "Iteration 50, loss = 0.09335186\n",
      "Iteration 51, loss = 0.09326203\n",
      "Iteration 52, loss = 0.09329242\n",
      "Iteration 53, loss = 0.09380791\n",
      "Iteration 54, loss = 0.09213095\n",
      "Iteration 55, loss = 0.09301705\n",
      "Iteration 56, loss = 0.09265978\n",
      "Iteration 57, loss = 0.09244153\n",
      "Iteration 58, loss = 0.09238146\n",
      "Iteration 59, loss = 0.09263107\n",
      "Iteration 60, loss = 0.09194670\n",
      "Iteration 61, loss = 0.09181067\n",
      "Iteration 62, loss = 0.09206530\n",
      "Iteration 63, loss = 0.09191348\n",
      "Iteration 64, loss = 0.09176231\n",
      "Iteration 65, loss = 0.09155717\n",
      "Iteration 66, loss = 0.09201104\n",
      "Iteration 67, loss = 0.09160484\n",
      "Iteration 68, loss = 0.09108405\n",
      "Iteration 69, loss = 0.09154808\n",
      "Iteration 70, loss = 0.09163217\n",
      "Iteration 71, loss = 0.09105939\n",
      "Iteration 72, loss = 0.09128064\n",
      "Iteration 73, loss = 0.09076984\n",
      "Iteration 74, loss = 0.09081629\n",
      "Iteration 75, loss = 0.09092719\n",
      "Iteration 76, loss = 0.09130631\n",
      "Iteration 77, loss = 0.09128676\n",
      "Iteration 78, loss = 0.09057237\n",
      "Iteration 79, loss = 0.09075874\n",
      "Iteration 80, loss = 0.09071735\n",
      "Iteration 81, loss = 0.09055954\n",
      "Iteration 82, loss = 0.09106968\n",
      "Iteration 83, loss = 0.09099800\n",
      "Iteration 84, loss = 0.09005656\n",
      "Iteration 85, loss = 0.09024464\n",
      "Iteration 86, loss = 0.09036608\n",
      "Iteration 87, loss = 0.09046399\n",
      "Iteration 88, loss = 0.09046034\n",
      "Iteration 89, loss = 0.09019489\n",
      "Iteration 90, loss = 0.09017799\n",
      "Iteration 91, loss = 0.09057206\n",
      "Iteration 92, loss = 0.08963666\n",
      "Iteration 93, loss = 0.08994838\n",
      "Iteration 94, loss = 0.09023075\n",
      "Iteration 95, loss = 0.09014819\n",
      "Iteration 96, loss = 0.09024172\n",
      "Iteration 97, loss = 0.09057778\n",
      "Iteration 98, loss = 0.09009438\n",
      "Iteration 99, loss = 0.08939143\n",
      "Iteration 100, loss = 0.08962291\n",
      "Iteration 101, loss = 0.08993264\n",
      "Iteration 102, loss = 0.08985371\n",
      "Iteration 103, loss = 0.09019823\n",
      "Iteration 104, loss = 0.08953038\n",
      "Iteration 105, loss = 0.08954143\n",
      "Iteration 106, loss = 0.09002133\n",
      "Iteration 107, loss = 0.08988851\n",
      "Iteration 108, loss = 0.08953415\n",
      "Iteration 109, loss = 0.08921834\n",
      "Iteration 110, loss = 0.08959911\n",
      "Iteration 111, loss = 0.08908321\n",
      "Iteration 112, loss = 0.08959055\n",
      "Iteration 113, loss = 0.08926417\n",
      "Iteration 114, loss = 0.08949815\n",
      "Iteration 115, loss = 0.08938384\n",
      "Iteration 116, loss = 0.08945479\n",
      "Iteration 117, loss = 0.08901311\n",
      "Iteration 118, loss = 0.08871334\n",
      "Iteration 119, loss = 0.08938797\n",
      "Iteration 120, loss = 0.08956765\n",
      "Iteration 121, loss = 0.08948074\n",
      "Iteration 122, loss = 0.08909009\n",
      "Iteration 123, loss = 0.08925383\n",
      "Iteration 124, loss = 0.08922717\n",
      "Iteration 125, loss = 0.08909186\n",
      "Iteration 126, loss = 0.08860057\n",
      "Iteration 127, loss = 0.08921065\n",
      "Iteration 128, loss = 0.08935376\n",
      "Iteration 129, loss = 0.08976776\n",
      "Iteration 130, loss = 0.08845403\n",
      "Iteration 131, loss = 0.08873270\n",
      "Iteration 132, loss = 0.08932771\n",
      "Iteration 133, loss = 0.08922926\n",
      "Iteration 134, loss = 0.08850337\n",
      "Iteration 135, loss = 0.08898029\n",
      "Iteration 136, loss = 0.08893100\n",
      "Iteration 137, loss = 0.08865170\n",
      "Iteration 138, loss = 0.08959621\n",
      "Iteration 139, loss = 0.08913252\n",
      "Iteration 140, loss = 0.08840842\n",
      "Iteration 141, loss = 0.08890449\n",
      "Training loss did not improve more than tol=0.000100 for 10 consecutive epochs. Stopping.\n",
      "\n",
      "[fit executed for: 587.092937s]\n",
      "\n",
      "[Now training: SVM]\n",
      "\n",
      "[fit executed for: 256.868680s]\n",
      "\n",
      "[Now training: GBMT]\n",
      "\n",
      "[fit executed for: 1.132910s]\n",
      "\n",
      "[Now training: KNN]\n",
      "\n",
      "[fit executed for: 2.617297s]\n",
      "\n",
      "\n",
      "[Function executed for: 860.049493s]\n",
      "\n"
     ]
    }
   ],
   "source": [
    "@cutil.time_it\n",
    "def build_evaluate_models():\n",
    "    for model_name, (pack_name, model) in train_target.items():\n",
    "        print(f'[Now training: {model_name}]')\n",
    "        \n",
    "        X_train, X_test, y_train, y_test = test_packs[pack_name]\n",
    "        cutil.TimingFit(model).fit(X_train, y_train)\n",
    "        evaluate_models[model_name] = model\n",
    "        \n",
    "build_evaluate_models()"
   ]
  },
  {
   "cell_type": "code",
   "execution_count": 130,
   "metadata": {},
   "outputs": [],
   "source": [
    "cutil.persistent(evaluate_models, 'evaluate_models.dict')"
   ]
  },
  {
   "cell_type": "code",
   "execution_count": 10,
   "metadata": {},
   "outputs": [],
   "source": [
    "evaluate_models = joblib.load(PREFIX + 'evaluate_models.dict')"
   ]
  },
  {
   "cell_type": "code",
   "execution_count": 77,
   "metadata": {},
   "outputs": [
    {
     "name": "stdout",
     "output_type": "stream",
     "text": [
      "Logistic: {'test auc': 0.922489, 'train auc': 0.920303}\n",
      "RandomForest: {'test auc': 0.950429, 'train auc': 0.999934}\n",
      "MLP: {'test auc': 0.942806, 'train auc': 0.992061}\n",
      "GBMT: {'test auc': 0.965267, 'train auc': 0.998912}\n",
      "KNN: {'test auc': 0.892483, 'train auc': 0.990799}\n"
     ]
    }
   ],
   "source": [
    "@cutil.time_it\n",
    "def anonymous_func():\n",
    "    for model_name, model in evaluate_models.items():\n",
    "        if 'SVM' == model_name:\n",
    "            continue\n",
    "        \n",
    "        pack_for_model = train_target[model_name][0]\n",
    "        model_metric = cutil.is_model_fit(model, test_packs[pack_for_model])\n",
    "        print(f\"{model_name}: {model_metric}\")\n",
    "\n",
    "anonymous_func()"
   ]
  },
  {
   "cell_type": "code",
   "execution_count": 38,
   "metadata": {},
   "outputs": [
    {
     "name": "stdout",
     "output_type": "stream",
     "text": [
      "[Now ploting: Logistic]\n",
      "[Now ploting: RandomForest]\n",
      "[Now ploting: MLP]\n",
      "[Now ploting: GBMT]\n",
      "[Now ploting: KNN]\n",
      "\n",
      "[Function executed for: 36.234923s]\n",
      "\n"
     ]
    },
    {
     "data": {
      "image/png": "[encoded data removed]",
      "text/plain": [
       "<Figure size 576x432 with 1 Axes>"
      ]
     },
     "metadata": {},
     "output_type": "display_data"
    }
   ],
   "source": [
    "# 绘制 ROC 曲线\n",
    "@cutil.time_it\n",
    "def anonymous_func():\n",
    "    df = pd.DataFrame(columns=['fpr', 'tpr', 'threshold', 'model'])\n",
    "    \n",
    "    for model_name, model in evaluate_models.items():\n",
    "        if 'SVM' == model_name:\n",
    "            continue\n",
    "        \n",
    "        print(f'[Now ploting: {model_name}]')\n",
    "        pack_for_model = train_target[model_name][0]\n",
    "        X_train, X_test, y_train, y_test = test_packs[pack_for_model]\n",
    "        y_predict = model.predict_proba(X_test)[:, 1]\n",
    "        fpr, tpr, threshold = roc_curve(y_test, y_predict)\n",
    "        \n",
    "        model_df = pd.DataFrame({'fpr': fpr, 'tpr': tpr, 'threshold': threshold})\n",
    "        model_df['model'] = model_name\n",
    "        \n",
    "        df = df.append(model_df, ignore_index=True)\n",
    "    \n",
    "    fig, ax = plt.subplots(figsize=(8, 6))\n",
    "    sns.lineplot(\n",
    "        data=df, ax=ax,\n",
    "        x='fpr', y='tpr', hue='model')\n",
    "    ax.set_ylim(0.7, 1.02)\n",
    "    \n",
    "    fig.savefig(PREFIX + 'AUC.svg', format='svg')\n",
    "\n",
    "anonymous_func()"
   ]
  },
  {
   "cell_type": "code",
   "execution_count": 20,
   "metadata": {},
   "outputs": [],
   "source": [
    "def plot_some_装逼_barplot(plot_data, file_name):\n",
    "    train_time = pd.DataFrame({\n",
    "        'model': [*plot_data.keys()],\n",
    "        'time': [*plot_data.values()],\n",
    "    })\n",
    "    \n",
    "    fig, ax = plt.subplots(figsize=(8, 8))\n",
    "    sns.barplot(x='model', y='time', data=train_time, ax=ax)\n",
    "    cutil.plot_value_on_bar(train_time.time, ax)\n",
    "    \n",
    "    fig.savefig(PREFIX + f'{file_name}.svg', format='svg')"
   ]
  },
  {
   "cell_type": "code",
   "execution_count": null,
   "metadata": {},
   "outputs": [],
   "source": [
    "plot_some_装逼_barplot({'Logistic': 0.446394, 'RandomForest': 11.875659, \n",
    " 'MLP': 587.092937, 'SVM': 256.86868, \n",
    " 'GBDT': 1.13291, 'KNN': 2.617297}, 'TrainTime')"
   ]
  },
  {
   "cell_type": "code",
   "execution_count": 31,
   "metadata": {},
   "outputs": [
    {
     "data": {
      "image/png": "[encoded data removed]",
      "text/plain": [
       "<Figure size 576x432 with 1 Axes>"
      ]
     },
     "metadata": {},
     "output_type": "display_data"
    }
   ],
   "source": [
    "def anonymous_func(plot_data, file_name):\n",
    "    train_time = pd.DataFrame({\n",
    "        'model': [*plot_data.keys()],\n",
    "        'time': [*plot_data.values()],\n",
    "    })\n",
    "    \n",
    "    fig, ax = plt.subplots(figsize=(8, 6))\n",
    "    sns.barplot(x='model', y='time', data=train_time, ax=ax)\n",
    "    ax.set_ylim(0.88, 1.0)\n",
    "    cutil.plot_value_on_bar(train_time.time, ax)    \n",
    "    \n",
    "    fig.savefig(PREFIX + f'{file_name}.svg', format='svg')\n",
    "    \n",
    "anonymous_func({'Logistic': 0.922489, 'RandomForest': 0.950429,\n",
    " 'MLP': 0.942806, 'GBDT': 0.965267,\n",
    " 'KNN': 0.892483}, 'ROAUC')"
   ]
  },
  {
   "cell_type": "code",
   "execution_count": 11,
   "metadata": {},
   "outputs": [
    {
     "name": "stdout",
     "output_type": "stream",
     "text": [
      "[Now calculating ROC: Logistic]\n",
      "[Now calculating ROC: RandomForest]\n",
      "[Now calculating ROC: MLP]\n",
      "[Now calculating ROC: GBMT]\n",
      "[Now calculating ROC: KNN]\n",
      "\n",
      "[Function executed for: 26.258584s]\n",
      "\n"
     ]
    }
   ],
   "source": [
    "# 准备 ROC 需要的数据\n",
    "model_roc_data = dict()\n",
    "\n",
    "@cutil.time_it\n",
    "def anonymous_func():\n",
    "    for model_name, model in evaluate_models.items():\n",
    "        if 'SVM' == model_name:\n",
    "            continue\n",
    "        \n",
    "        print(f'[Now calculating ROC: {model_name}]')\n",
    "        pack_for_model = train_target[model_name][0]\n",
    "        X_train, X_test, y_train, y_test = test_packs[pack_for_model]\n",
    "        y_predict = model.predict_proba(X_test)[:, 1]\n",
    "        fpr, tpr, threshold = roc_curve(y_test, y_predict)\n",
    "        \n",
    "        model_roc_data[model_name] = (fpr, tpr, threshold)\n",
    "anonymous_func()"
   ]
  },
  {
   "cell_type": "code",
   "execution_count": 35,
   "metadata": {},
   "outputs": [
    {
     "data": {
      "image/png": "[encoded data removed]",
      "text/plain": [
       "<Figure size 1440x720 with 6 Axes>"
      ]
     },
     "metadata": {},
     "output_type": "display_data"
    }
   ],
   "source": [
    "def anonymous_func():\n",
    "    fig, axs = plt.subplots(2, 3, figsize=(20, 10))\n",
    "    axs = axs.flatten()\n",
    "    \n",
    "    for i, (model_name, roc_data) in enumerate(model_roc_data.items()):\n",
    "        df = pd.DataFrame(columns=['y', 'threshold', 'type'])\n",
    "    \n",
    "        fpr, tpr, threshold = roc_data\n",
    "\n",
    "        for target_name, target in zip(['fpr', 'tpr'], [fpr, tpr]):\n",
    "            df_y = pd.DataFrame({'y': target, 'threshold': threshold})\n",
    "            df_y['type'] = target_name\n",
    "\n",
    "            df = df.append(df_y, ignore_index=True)\n",
    "\n",
    "        df.loc[df.threshold > 1, 'threshold'] = 1.001\n",
    "        sns.lineplot(y='y', x='threshold', hue='type', data=df, ax=axs[i])        \n",
    "        \n",
    "        axs[i].set_title(model_name)\n",
    "        axs[i].set_xlabel('')\n",
    "        axs[i].set_ylabel('')\n",
    "        \n",
    "        legend = axs[i].legend(loc='upper right')\n",
    "        legend.texts[0].set_text(\"KS 曲线\")\n",
    "    \n",
    "    plt.tight_layout()\n",
    "    fig.savefig(PREFIX + f'KS.svg', format='svg')\n",
    "\n",
    "anonymous_func()"
   ]
  },
  {
   "cell_type": "code",
   "execution_count": 36,
   "metadata": {},
   "outputs": [
    {
     "data": {
      "image/png": "[encoded data removed]",
      "text/plain": [
       "<Figure size 576x432 with 1 Axes>"
      ]
     },
     "metadata": {},
     "output_type": "display_data"
    }
   ],
   "source": [
    "def anonymous_func():\n",
    "    plot_data = {'Logistic': 0.920303, 'RandomForest': 0.999934,\n",
    "                 'MLP': 0.992061, 'GBDT': 0.998912,\n",
    "                 'KNN': 0.990799}\n",
    "\n",
    "    train_time = pd.DataFrame({\n",
    "        'model': [*plot_data.keys()],\n",
    "        'time': [*plot_data.values()],\n",
    "    })\n",
    "\n",
    "    fig, ax = plt.subplots(figsize=(8, 6))\n",
    "    sns.barplot(x='model', y='time', data=train_time, ax=ax)\n",
    "    cutil.plot_value_on_bar(train_time.time, ax)\n",
    "    \n",
    "    ax.set_ylim(0.9, 1.01)\n",
    "    ax.axhline(1, ls='--')\n",
    "    ax.axhline(0.98, ls='--')\n",
    "    ax.text(0, 1, '过拟合', ha=\"center\", va= \"bottom\", fontsize=14, color='b')\n",
    "    ax.text(0, 0.98, '欠拟合', ha=\"center\", va= \"bottom\", fontsize=14, color='b')\n",
    "\n",
    "    fig.savefig(PREFIX + 'ROC_Train.svg', format='svg')\n",
    "\n",
    "anonymous_func()"
   ]
  },
  {
   "cell_type": "code",
   "execution_count": 40,
   "metadata": {},
   "outputs": [
    {
     "name": "stdout",
     "output_type": "stream",
     "text": [
      "[Now: Logistic]\n",
      "[Now: RandomForest]\n",
      "[Now: MLP]\n",
      "[Now: SVM]\n",
      "[Now: GBMT]\n",
      "[Now: KNN]\n"
     ]
    }
   ],
   "source": [
    "# 求解每个模型最好的 threshold\n",
    "# 并求解 F1、Accuracy、Recall\n",
    "# 认为使模型 tpr - fpr 最大的位置就是最优的 threshold\n",
    "def anonymous_func():\n",
    "    df = pd.DataFrame(columns=['KS', 'F1', 'Accuracy', 'Recall'])\n",
    "    \n",
    "    for model_name, model in evaluate_models.items():\n",
    "        print(f'[Now: {model_name}]')\n",
    "        X_train, X_test, y_train, y_test = test_packs[train_target[model_name][0]]\n",
    "        \n",
    "        if model_name != 'SVM':\n",
    "            fpr, tpr, threshold = model_roc_data[model_name]\n",
    "\n",
    "            max_item = (tpr - fpr).argmax()\n",
    "            ks = (tpr - fpr)[max_item]\n",
    "            thre = threshold[max_item]\n",
    "\n",
    "            y_predict = (model.predict_proba(X_test)[:, 1] >= thre).astype('int')\n",
    "        else:\n",
    "            y_predict = model.predict(X_test)\n",
    "        data_row = pd.Series({\n",
    "            'KS': ks, 'F1': f1_score(y_test, y_predict), \n",
    "            'Accuracy': accuracy_score(y_test, y_predict),\n",
    "            'Recall': recall_score(y_test, y_predict),\n",
    "        })\n",
    "        df.loc[model_name] = data_row\n",
    "        \n",
    "    return df\n",
    "\n",
    "glbl.model_traditional_metric = anonymous_func()"
   ]
  },
  {
   "cell_type": "code",
   "execution_count": 57,
   "metadata": {},
   "outputs": [
    {
     "ename": "KeyError",
     "evalue": "'GBMT'",
     "output_type": "error",
     "traceback": [
      "\u001b[1;31m---------------------------------------------------------------------------\u001b[0m",
      "\u001b[1;31mKeyError\u001b[0m                                  Traceback (most recent call last)",
      "\u001b[1;32mc:\\python37\\lib\\site-packages\\pandas\\core\\indexes\\base.py\u001b[0m in \u001b[0;36mget_loc\u001b[1;34m(self, key, method, tolerance)\u001b[0m\n\u001b[0;32m   2656\u001b[0m             \u001b[1;32mtry\u001b[0m\u001b[1;33m:\u001b[0m\u001b[1;33m\u001b[0m\u001b[1;33m\u001b[0m\u001b[0m\n\u001b[1;32m-> 2657\u001b[1;33m                 \u001b[1;32mreturn\u001b[0m \u001b[0mself\u001b[0m\u001b[1;33m.\u001b[0m\u001b[0m_engine\u001b[0m\u001b[1;33m.\u001b[0m\u001b[0mget_loc\u001b[0m\u001b[1;33m(\u001b[0m\u001b[0mkey\u001b[0m\u001b[1;33m)\u001b[0m\u001b[1;33m\u001b[0m\u001b[1;33m\u001b[0m\u001b[0m\n\u001b[0m\u001b[0;32m   2658\u001b[0m             \u001b[1;32mexcept\u001b[0m \u001b[0mKeyError\u001b[0m\u001b[1;33m:\u001b[0m\u001b[1;33m\u001b[0m\u001b[1;33m\u001b[0m\u001b[0m\n",
      "\u001b[1;32mpandas\\_libs\\index.pyx\u001b[0m in \u001b[0;36mpandas._libs.index.IndexEngine.get_loc\u001b[1;34m()\u001b[0m\n",
      "\u001b[1;32mpandas\\_libs\\index.pyx\u001b[0m in \u001b[0;36mpandas._libs.index.IndexEngine.get_loc\u001b[1;34m()\u001b[0m\n",
      "\u001b[1;32mpandas\\_libs\\hashtable_class_helper.pxi\u001b[0m in \u001b[0;36mpandas._libs.hashtable.PyObjectHashTable.get_item\u001b[1;34m()\u001b[0m\n",
      "\u001b[1;32mpandas\\_libs\\hashtable_class_helper.pxi\u001b[0m in \u001b[0;36mpandas._libs.hashtable.PyObjectHashTable.get_item\u001b[1;34m()\u001b[0m\n",
      "\u001b[1;31mKeyError\u001b[0m: 'GBMT'",
      "\nDuring handling of the above exception, another exception occurred:\n",
      "\u001b[1;31mKeyError\u001b[0m                                  Traceback (most recent call last)",
      "\u001b[1;32m<ipython-input-57-6737fcb71bb5>\u001b[0m in \u001b[0;36m<module>\u001b[1;34m\u001b[0m\n\u001b[1;32m----> 1\u001b[1;33m \u001b[0mglbl\u001b[0m\u001b[1;33m.\u001b[0m\u001b[0mmodel_traditional_metric\u001b[0m\u001b[1;33m[\u001b[0m\u001b[1;34m'GBMT'\u001b[0m\u001b[1;33m]\u001b[0m\u001b[1;33m.\u001b[0m\u001b[0mindex\u001b[0m\u001b[1;33m=\u001b[0m\u001b[1;34m'GBDT'\u001b[0m\u001b[1;33m\u001b[0m\u001b[1;33m\u001b[0m\u001b[0m\n\u001b[0m",
      "\u001b[1;32mc:\\python37\\lib\\site-packages\\pandas\\core\\frame.py\u001b[0m in \u001b[0;36m__getitem__\u001b[1;34m(self, key)\u001b[0m\n\u001b[0;32m   2925\u001b[0m             \u001b[1;32mif\u001b[0m \u001b[0mself\u001b[0m\u001b[1;33m.\u001b[0m\u001b[0mcolumns\u001b[0m\u001b[1;33m.\u001b[0m\u001b[0mnlevels\u001b[0m \u001b[1;33m>\u001b[0m \u001b[1;36m1\u001b[0m\u001b[1;33m:\u001b[0m\u001b[1;33m\u001b[0m\u001b[1;33m\u001b[0m\u001b[0m\n\u001b[0;32m   2926\u001b[0m                 \u001b[1;32mreturn\u001b[0m \u001b[0mself\u001b[0m\u001b[1;33m.\u001b[0m\u001b[0m_getitem_multilevel\u001b[0m\u001b[1;33m(\u001b[0m\u001b[0mkey\u001b[0m\u001b[1;33m)\u001b[0m\u001b[1;33m\u001b[0m\u001b[1;33m\u001b[0m\u001b[0m\n\u001b[1;32m-> 2927\u001b[1;33m             \u001b[0mindexer\u001b[0m \u001b[1;33m=\u001b[0m \u001b[0mself\u001b[0m\u001b[1;33m.\u001b[0m\u001b[0mcolumns\u001b[0m\u001b[1;33m.\u001b[0m\u001b[0mget_loc\u001b[0m\u001b[1;33m(\u001b[0m\u001b[0mkey\u001b[0m\u001b[1;33m)\u001b[0m\u001b[1;33m\u001b[0m\u001b[1;33m\u001b[0m\u001b[0m\n\u001b[0m\u001b[0;32m   2928\u001b[0m             \u001b[1;32mif\u001b[0m \u001b[0mis_integer\u001b[0m\u001b[1;33m(\u001b[0m\u001b[0mindexer\u001b[0m\u001b[1;33m)\u001b[0m\u001b[1;33m:\u001b[0m\u001b[1;33m\u001b[0m\u001b[1;33m\u001b[0m\u001b[0m\n\u001b[0;32m   2929\u001b[0m                 \u001b[0mindexer\u001b[0m \u001b[1;33m=\u001b[0m \u001b[1;33m[\u001b[0m\u001b[0mindexer\u001b[0m\u001b[1;33m]\u001b[0m\u001b[1;33m\u001b[0m\u001b[1;33m\u001b[0m\u001b[0m\n",
      "\u001b[1;32mc:\\python37\\lib\\site-packages\\pandas\\core\\indexes\\base.py\u001b[0m in \u001b[0;36mget_loc\u001b[1;34m(self, key, method, tolerance)\u001b[0m\n\u001b[0;32m   2657\u001b[0m                 \u001b[1;32mreturn\u001b[0m \u001b[0mself\u001b[0m\u001b[1;33m.\u001b[0m\u001b[0m_engine\u001b[0m\u001b[1;33m.\u001b[0m\u001b[0mget_loc\u001b[0m\u001b[1;33m(\u001b[0m\u001b[0mkey\u001b[0m\u001b[1;33m)\u001b[0m\u001b[1;33m\u001b[0m\u001b[1;33m\u001b[0m\u001b[0m\n\u001b[0;32m   2658\u001b[0m             \u001b[1;32mexcept\u001b[0m \u001b[0mKeyError\u001b[0m\u001b[1;33m:\u001b[0m\u001b[1;33m\u001b[0m\u001b[1;33m\u001b[0m\u001b[0m\n\u001b[1;32m-> 2659\u001b[1;33m                 \u001b[1;32mreturn\u001b[0m \u001b[0mself\u001b[0m\u001b[1;33m.\u001b[0m\u001b[0m_engine\u001b[0m\u001b[1;33m.\u001b[0m\u001b[0mget_loc\u001b[0m\u001b[1;33m(\u001b[0m\u001b[0mself\u001b[0m\u001b[1;33m.\u001b[0m\u001b[0m_maybe_cast_indexer\u001b[0m\u001b[1;33m(\u001b[0m\u001b[0mkey\u001b[0m\u001b[1;33m)\u001b[0m\u001b[1;33m)\u001b[0m\u001b[1;33m\u001b[0m\u001b[1;33m\u001b[0m\u001b[0m\n\u001b[0m\u001b[0;32m   2660\u001b[0m         \u001b[0mindexer\u001b[0m \u001b[1;33m=\u001b[0m \u001b[0mself\u001b[0m\u001b[1;33m.\u001b[0m\u001b[0mget_indexer\u001b[0m\u001b[1;33m(\u001b[0m\u001b[1;33m[\u001b[0m\u001b[0mkey\u001b[0m\u001b[1;33m]\u001b[0m\u001b[1;33m,\u001b[0m \u001b[0mmethod\u001b[0m\u001b[1;33m=\u001b[0m\u001b[0mmethod\u001b[0m\u001b[1;33m,\u001b[0m \u001b[0mtolerance\u001b[0m\u001b[1;33m=\u001b[0m\u001b[0mtolerance\u001b[0m\u001b[1;33m)\u001b[0m\u001b[1;33m\u001b[0m\u001b[1;33m\u001b[0m\u001b[0m\n\u001b[0;32m   2661\u001b[0m         \u001b[1;32mif\u001b[0m \u001b[0mindexer\u001b[0m\u001b[1;33m.\u001b[0m\u001b[0mndim\u001b[0m \u001b[1;33m>\u001b[0m \u001b[1;36m1\u001b[0m \u001b[1;32mor\u001b[0m \u001b[0mindexer\u001b[0m\u001b[1;33m.\u001b[0m\u001b[0msize\u001b[0m \u001b[1;33m>\u001b[0m \u001b[1;36m1\u001b[0m\u001b[1;33m:\u001b[0m\u001b[1;33m\u001b[0m\u001b[1;33m\u001b[0m\u001b[0m\n",
      "\u001b[1;32mpandas\\_libs\\index.pyx\u001b[0m in \u001b[0;36mpandas._libs.index.IndexEngine.get_loc\u001b[1;34m()\u001b[0m\n",
      "\u001b[1;32mpandas\\_libs\\index.pyx\u001b[0m in \u001b[0;36mpandas._libs.index.IndexEngine.get_loc\u001b[1;34m()\u001b[0m\n",
      "\u001b[1;32mpandas\\_libs\\hashtable_class_helper.pxi\u001b[0m in \u001b[0;36mpandas._libs.hashtable.PyObjectHashTable.get_item\u001b[1;34m()\u001b[0m\n",
      "\u001b[1;32mpandas\\_libs\\hashtable_class_helper.pxi\u001b[0m in \u001b[0;36mpandas._libs.hashtable.PyObjectHashTable.get_item\u001b[1;34m()\u001b[0m\n",
      "\u001b[1;31mKeyError\u001b[0m: 'GBMT'"
     ]
    }
   ],
   "source": [
    "glbl.model_traditional_metric['GBMT'].index='GBDT'"
   ]
  },
  {
   "cell_type": "code",
   "execution_count": 58,
   "metadata": {},
   "outputs": [
    {
     "data": {
      "image/png": "[encoded data removed]",
      "text/plain": [
       "<Figure size 1152x864 with 4 Axes>"
      ]
     },
     "metadata": {},
     "output_type": "display_data"
    }
   ],
   "source": [
    "def plot_traditional_metric(df):\n",
    "    columns = df.columns\n",
    "    \n",
    "    fig, axs = plt.subplots(2, 2, figsize=(16, 12))\n",
    "    axs = axs.flatten()\n",
    "    \n",
    "    for ax, col in zip(axs, columns): \n",
    "        sns.barplot(x=df[col].index, y=df[col], ax=ax)\n",
    "        ax.set_ylim(df[col].min() - 0.02, 1)\n",
    "        ax.set_title(f'{col} 对比图')\n",
    "        \n",
    "        cutil.plot_value_on_bar(np.round(df[col], 3), ax)\n",
    "        \n",
    "    fig.savefig(PREFIX + 'TraditionalMetric.svg', format='svg')\n",
    "\n",
    "plot_traditional_metric(glbl.model_traditional_metric)"
   ]
  },
  {
   "cell_type": "code",
   "execution_count": 18,
   "metadata": {},
   "outputs": [
    {
     "data": {
      "text/plain": [
       "0         0.039\n",
       "1        35.550\n",
       "2        24.929\n",
       "3      1465.098\n",
       "4         2.110\n",
       "5         1.185\n",
       "6         2.125\n",
       "7      6059.777\n",
       "8         5.180\n",
       "9         0.038\n",
       "10        0.038\n",
       "11        0.017\n",
       "12        0.073\n",
       "13    18163.164\n",
       "14        0.689\n",
       "15   -63271.919\n",
       "16       35.316\n",
       "17      131.517\n",
       "18        7.639\n",
       "19     5538.489\n",
       "20        5.563\n",
       "21        2.364\n",
       "22        5.561\n",
       "23    45289.720\n",
       "24       19.677\n",
       "25        0.159\n",
       "26        0.521\n",
       "27        0.320\n",
       "28        0.063\n",
       "29        0.398\n",
       "30        0.290\n",
       "31        0.181\n",
       "32        0.068\n",
       "33        0.544\n",
       "34        0.170\n",
       "35        0.287\n",
       "36        0.074\n",
       "37        0.729\n",
       "38        0.197\n",
       "39        0.102\n",
       "40        0.072\n",
       "41        0.080\n",
       "42        0.145\n",
       "43        0.600\n",
       "44        0.004\n",
       "45        0.560\n",
       "46        0.437\n",
       "47        0.383\n",
       "48        0.408\n",
       "49        0.208\n",
       "50    38656.331\n",
       "51     4387.805\n",
       "52      706.150\n",
       "53     -670.074\n",
       "54      166.776\n",
       "Name: mean, dtype: float64"
      ]
     },
     "execution_count": 18,
     "metadata": {},
     "output_type": "execute_result"
    }
   ],
   "source": [
    "def anonymous_func():\n",
    "    X_train, X_test, y_train, y_test = test_packs['raw_data']\n",
    "    return np.round(pd.DataFrame(X_train).describe(), 3).loc['mean']\n",
    "    \n",
    "anonymous_func()"
   ]
  },
  {
   "cell_type": "code",
   "execution_count": 34,
   "metadata": {},
   "outputs": [],
   "source": [
    "def plot_some_务实_barplot(plot_data, file_name, ylim=None):\n",
    "    df = pd.DataFrame({\n",
    "        'x': [*plot_data.keys()],\n",
    "        'y': [*plot_data.values()],\n",
    "    })\n",
    "    \n",
    "    fig, ax = plt.subplots(figsize=(8, 8))\n",
    "    sns.barplot(x='x', y='y', data=df, ax=ax)\n",
    "    cutil.plot_value_on_bar(df.y, ax)\n",
    "    \n",
    "    if ylim is None:\n",
    "        ax.set_ylim(df.y.min() - 0.05, df.y.max() + 0.01)\n",
    "    else:\n",
    "        ax.set_ylim(ylim)\n",
    "    \n",
    "    fig.savefig(PREFIX + f'{file_name}.svg', format='svg')"
   ]
  },
  {
   "cell_type": "code",
   "execution_count": 38,
   "metadata": {},
   "outputs": [
    {
     "data": {
      "image/png": "[encoded data removed]",
      "text/plain": [
       "<Figure size 576x576 with 1 Axes>"
      ]
     },
     "metadata": {},
     "output_type": "display_data"
    }
   ],
   "source": [
    "plot_some_务实_barplot({'调参前': 0.922416, '调参后': 0.922447}, \n",
    "                     file_name='LogisticAUC', ylim=(0.9, 1))"
   ]
  },
  {
   "cell_type": "code",
   "execution_count": 39,
   "metadata": {
    "scrolled": true
   },
   "outputs": [
    {
     "data": {
      "image/png": "[encoded data removed]",
      "text/plain": [
       "<Figure size 576x576 with 1 Axes>"
      ]
     },
     "metadata": {},
     "output_type": "display_data"
    }
   ],
   "source": [
    "plot_some_务实_barplot({'调参前': 0.931477, '调参后': 0.950429}, \n",
    "                     file_name='RandomForestAUC', ylim=(0.9, 1))"
   ]
  },
  {
   "cell_type": "code",
   "execution_count": 41,
   "metadata": {
    "scrolled": true
   },
   "outputs": [
    {
     "data": {
      "image/png": "[encoded data removed]",
      "text/plain": [
       "<Figure size 576x576 with 1 Axes>"
      ]
     },
     "metadata": {},
     "output_type": "display_data"
    }
   ],
   "source": [
    "plot_some_务实_barplot({'调参前': 0.932023, '调参后': 0.942806}, \n",
    "                     file_name='MLP-AUC', ylim=(0.9, 1))"
   ]
  },
  {
   "cell_type": "code",
   "execution_count": 42,
   "metadata": {
    "scrolled": true
   },
   "outputs": [
    {
     "data": {
      "image/png": "[encoded data removed]",
      "text/plain": [
       "<Figure size 576x576 with 1 Axes>"
      ]
     },
     "metadata": {},
     "output_type": "display_data"
    }
   ],
   "source": [
    "plot_some_务实_barplot({'调参前': 0.961751, '调参后': 0.965267}, \n",
    "                     file_name='LightGBM-AUC', ylim=(0.9, 1))"
   ]
  },
  {
   "cell_type": "markdown",
   "metadata": {},
   "source": [
    "## 可解释性\n",
    "----"
   ]
  },
  {
   "cell_type": "code",
   "execution_count": 53,
   "metadata": {},
   "outputs": [
    {
     "data": {
      "text/plain": [
       "array([[-0.0295634 , -0.09179292, -0.03251821,  0.07831818,  0.16581169,\n",
       "        -0.16649296, -0.15157291, -0.09207533,  0.03737211, -0.15190249,\n",
       "        -0.2189432 , -0.19793132,  0.12126369, -0.04662785,  0.01405622,\n",
       "        -0.37756958, -0.23512424, -0.07831278, -0.09670419,  0.49424072,\n",
       "        -0.18234468, -0.61142653, -0.20719164,  0.09658091,  0.25955669,\n",
       "        -0.33737938, -0.33231852, -0.31477427, -0.10448389,  0.00911695,\n",
       "        -0.34063418, -0.55481922, -0.15685266,  0.27746558,  0.36469927,\n",
       "        -0.03991463, -0.00403226, -0.01695838, -0.05615494, -0.293081  ,\n",
       "        -0.56955406, -0.04353549,  0.07343249,  0.12951585,  0.04159561,\n",
       "         0.11795582, -0.05448272, -0.51520993, -0.82487337,  0.57393895,\n",
       "         0.26117095, -0.42037773, -0.03103953,  0.02241977, -0.02910603,\n",
       "        -0.37241542,  0.13874397, -0.3339629 , -0.21492228, -1.31513428,\n",
       "        -0.87184419, -0.54614597,  2.32298323, -0.1393478 , -0.14170393,\n",
       "         0.08046545, -0.20955493,  0.14027387, -1.75208036, -0.8893859 ,\n",
       "         0.34382515,  1.74722602, -0.0503595 , -0.43129002, -0.01448205,\n",
       "         0.08599036, -2.27135008, -1.4057656 ,  1.23108513,  2.03588935,\n",
       "        -0.0204065 , -0.55187356,  0.38655211, -0.22441326,  0.10676576,\n",
       "        -0.14086019, -0.16813838, -0.20790839,  0.22887365,  0.1332783 ,\n",
       "         0.15132915, -0.04478451, -0.87883781,  0.06000655,  0.05906295,\n",
       "        -0.09472043, -0.48002933,  0.04553906,  0.11759057, -0.15748814,\n",
       "        -0.93275456,  0.32950872,  0.23300219,  0.49910117,  0.43986452,\n",
       "         0.45800496,  0.07578824, -1.8829001 ,  0.12154531,  0.07867634,\n",
       "        -0.24052826, -0.3698346 , -0.02841156,  0.15313833,  0.22960854,\n",
       "         0.09064909, -0.85512561,  0.25824665,  0.07574718, -0.09525701,\n",
       "        -0.64887803,  1.12390512, -0.54507775, -0.52763134, -0.46133723,\n",
       "        -0.01375191, -0.07348982, -0.32289947, -0.42779115, -0.05385836,\n",
       "        -0.23609966,  0.30760797, -0.0204065 ,  0.04023586, -0.22310906,\n",
       "        -0.20686151]])"
      ]
     },
     "execution_count": 53,
     "metadata": {},
     "output_type": "execute_result"
    }
   ],
   "source": [
    "evaluate_models['Logistic'].coef_"
   ]
  },
  {
   "cell_type": "code",
   "execution_count": 89,
   "metadata": {},
   "outputs": [],
   "source": [
    "def model_interpret(pack_name, importance, title=None):\n",
    "    coef = importance.flatten()\n",
    "    importance = pd.Series(coef, index=test_data_cols[pack_name]).sort_values(ascending=False)[:5]\n",
    "    \n",
    "    fig, ax = plt.subplots(figsize=(8, 6))\n",
    "    sns.barplot(y=importance.index, x=importance, ax=ax)\n",
    "    if isinstance(title, str):\n",
    "        ax.set_title(title)\n",
    "    ax.set_xlabel('重要性权值')\n",
    "    \n",
    "    return fig"
   ]
  },
  {
   "cell_type": "code",
   "execution_count": 90,
   "metadata": {},
   "outputs": [
    {
     "data": {
      "image/png": "[encoded data removed]",
      "text/plain": [
       "<Figure size 576x432 with 1 Axes>"
      ]
     },
     "metadata": {},
     "output_type": "display_data"
    }
   ],
   "source": [
    "def anonymous_func():\n",
    "    fig = model_interpret(pack_data_of('Logistic'), evaluate_models['Logistic'].coef_, title='Logistic 回归')\n",
    "    plt.tight_layout()\n",
    "    fig.savefig(PREFIX + 'Logistic-Interpret.svg', format='svg')\n",
    "    \n",
    "anonymous_func()"
   ]
  },
  {
   "cell_type": "code",
   "execution_count": 92,
   "metadata": {},
   "outputs": [
    {
     "data": {
      "image/png": "[encoded data removed]",
      "text/plain": [
       "<Figure size 576x432 with 1 Axes>"
      ]
     },
     "metadata": {},
     "output_type": "display_data"
    }
   ],
   "source": [
    "def anonymous_func():\n",
    "    fig = model_interpret(pack_data_of('RandomForest'),\n",
    "                          evaluate_models['RandomForest'].feature_importances_ ,\n",
    "                          title='RandomForest')\n",
    "    plt.tight_layout()\n",
    "    fig.savefig(PREFIX + 'RandomForest-Interpret.svg', format='svg')\n",
    "    \n",
    "anonymous_func()"
   ]
  },
  {
   "cell_type": "code",
   "execution_count": 93,
   "metadata": {},
   "outputs": [
    {
     "data": {
      "image/png": "[encoded data removed]",
      "text/plain": [
       "<Figure size 576x432 with 1 Axes>"
      ]
     },
     "metadata": {},
     "output_type": "display_data"
    }
   ],
   "source": [
    "def anonymous_func():\n",
    "    fig = model_interpret(pack_data_of('GBDT'), evaluate_models['GBDT'].feature_importances_, title='GBDT')\n",
    "    plt.tight_layout()\n",
    "    fig.savefig(PREFIX + 'LightGBM-Interpret.svg', format='svg')\n",
    "    \n",
    "anonymous_func()"
   ]
  },
  {
   "cell_type": "code",
   "execution_count": null,
   "metadata": {},
   "outputs": [],
   "source": []
  }
 ],
 "metadata": {
  "kernelspec": {
   "display_name": "Python 3",
   "language": "python",
   "name": "python3"
  },
  "language_info": {
   "codemirror_mode": {
    "name": "ipython",
    "version": 3
   },
   "file_extension": ".py",
   "mimetype": "text/x-python",
   "name": "python",
   "nbconvert_exporter": "python",
   "pygments_lexer": "ipython3",
   "version": "3.7.3"
  }
 },
 "nbformat": 4,
 "nbformat_minor": 2
}
